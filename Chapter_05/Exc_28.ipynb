{
 "cells": [
  {
   "cell_type": "code",
   "execution_count": 1,
   "metadata": {},
   "outputs": [],
   "source": [
    "import pandas as pd\n",
    "import numpy as np\n",
    "from pandas import Series, DataFrame"
   ]
  },
  {
   "cell_type": "code",
   "execution_count": 56,
   "metadata": {},
   "outputs": [],
   "source": [
    "df = pd.read_csv('../data_sets/nyc-parking-violations-2020.csv', \n",
    "                 usecols=['Plate ID', 'Registration State',  \n",
    "                          'Vehicle Make', 'Vehicle Color', \n",
    "                          'Street Name'])"
   ]
  },
  {
   "cell_type": "code",
   "execution_count": 57,
   "metadata": {},
   "outputs": [
    {
     "data": {
      "text/plain": [
       "Index(['WH', 'GY', 'BK', 'WHITE', 'BL', 'RD', 'BLACK', 'GREY', 'BROWN',\n",
       "       'SILVE',\n",
       "       ...\n",
       "       'GEAY', 'M.GRE', 'WHTQ', 'STRLT', 'BLDG', 'RD-CH', 'ELK', 'WICK',\n",
       "       'MARIO', 'CH'],\n",
       "      dtype='object', name='Vehicle Color', length=1896)"
      ]
     },
     "execution_count": 57,
     "metadata": {},
     "output_type": "execute_result"
    }
   ],
   "source": [
    "df['Vehicle Color'].value_counts().index "
   ]
  },
  {
   "cell_type": "code",
   "execution_count": 58,
   "metadata": {},
   "outputs": [
    {
     "data": {
      "text/plain": [
       "1897"
      ]
     },
     "execution_count": 58,
     "metadata": {},
     "output_type": "execute_result"
    }
   ],
   "source": [
    "len(df['Vehicle Color'].unique())"
   ]
  },
  {
   "cell_type": "code",
   "execution_count": 59,
   "metadata": {},
   "outputs": [
    {
     "data": {
      "text/plain": [
       "1896"
      ]
     },
     "execution_count": 59,
     "metadata": {},
     "output_type": "execute_result"
    }
   ],
   "source": [
    "len(df['Vehicle Color'].dropna().unique())"
   ]
  },
  {
   "cell_type": "code",
   "execution_count": 25,
   "metadata": {},
   "outputs": [],
   "source": [
    "colors =df['Vehicle Color'].dropna().value_counts().head(30).index.tolist()"
   ]
  },
  {
   "cell_type": "code",
   "execution_count": 60,
   "metadata": {},
   "outputs": [
    {
     "data": {
      "text/plain": [
       "['WH',\n",
       " 'GY',\n",
       " 'BK',\n",
       " 'WHITE',\n",
       " 'BL',\n",
       " 'RD',\n",
       " 'BLACK',\n",
       " 'GREY',\n",
       " 'BROWN',\n",
       " 'SILVE',\n",
       " 'GR',\n",
       " 'BLUE',\n",
       " 'RED',\n",
       " 'TN',\n",
       " 'BR',\n",
       " 'YW',\n",
       " 'BLK',\n",
       " 'OTHER',\n",
       " 'GREEN',\n",
       " 'GL',\n",
       " 'GRY',\n",
       " 'MR',\n",
       " 'GRAY',\n",
       " 'WHT',\n",
       " 'YELLO',\n",
       " 'WHI',\n",
       " 'OR',\n",
       " 'BK.',\n",
       " 'WT',\n",
       " 'WT.']"
      ]
     },
     "execution_count": 60,
     "metadata": {},
     "output_type": "execute_result"
    }
   ],
   "source": [
    "colors[:30]"
   ]
  },
  {
   "cell_type": "code",
   "execution_count": 30,
   "metadata": {},
   "outputs": [
    {
     "name": "stdout",
     "output_type": "stream",
     "text": [
      "['WH', 'WHITE', 'WHT', 'WHI', 'WT', 'WT.']\n",
      "['BK', 'BL', 'BLACK', 'BROWN', 'BLUE', 'BR', 'BLK', 'BK.']\n"
     ]
    }
   ],
   "source": [
    "list_white = []\n",
    "list_black = []\n",
    "for color in colors:\n",
    "    if color.startswith('W'):\n",
    "        list_white.append(color)\n",
    "    elif color.startswith('B'):\n",
    "        list_black.append(color)\n",
    "print(list_white)\n",
    "print(list_black)"
   ]
  },
  {
   "cell_type": "code",
   "execution_count": 48,
   "metadata": {},
   "outputs": [
    {
     "data": {
      "text/plain": [
       "'BR'"
      ]
     },
     "execution_count": 48,
     "metadata": {},
     "output_type": "execute_result"
    }
   ],
   "source": [
    "list_black.pop(3)\n"
   ]
  },
  {
   "cell_type": "code",
   "execution_count": 49,
   "metadata": {},
   "outputs": [
    {
     "data": {
      "text/plain": [
       "['BK', 'BL', 'BLACK', 'BLK', 'BK.']"
      ]
     },
     "execution_count": 49,
     "metadata": {},
     "output_type": "execute_result"
    }
   ],
   "source": [
    "list_black"
   ]
  },
  {
   "cell_type": "code",
   "execution_count": 51,
   "metadata": {},
   "outputs": [],
   "source": [
    "dict_white = {x: 'White' for x in list_white}\n",
    "dict_blck = {y: 'Black' for y in list_black}\n"
   ]
  },
  {
   "cell_type": "code",
   "execution_count": 38,
   "metadata": {},
   "outputs": [],
   "source": [
    "import matplotlib.pyplot as plt"
   ]
  },
  {
   "cell_type": "code",
   "execution_count": 53,
   "metadata": {},
   "outputs": [
    {
     "data": {
      "image/png": "[encoded data removed]",
      "text/plain": [
       "<Figure size 640x480 with 1 Axes>"
      ]
     },
     "metadata": {},
     "output_type": "display_data"
    }
   ],
   "source": [
    "df['Vehicle Color'] = df['Vehicle Color'].replace(dict_white)\n",
    "df['Vehicle Color'] = df['Vehicle Color'].replace(dict_blck)\n",
    "df['Vehicle Color'].value_counts().head(30).plot(kind='bar')\n",
    "plt.show()"
   ]
  },
  {
   "cell_type": "code",
   "execution_count": 54,
   "metadata": {},
   "outputs": [
    {
     "data": {
      "text/plain": [
       "1885"
      ]
     },
     "execution_count": 54,
     "metadata": {},
     "output_type": "execute_result"
    }
   ],
   "source": [
    "len(df['Vehicle Color'].dropna().unique())"
   ]
  },
  {
   "cell_type": "markdown",
   "metadata": {},
   "source": [
    "# Beyond 1\n",
    "### Run value_counts on the Vehicle Make column, and look at some vehicle names. (There are more than 5,200 distinct makes, which almost certainly indicates a lot of inconsistency in this data.) What problems do you see? Write a function that, given a value, cleans up the data: putting the name in all caps, removing punctuation, and standardizing whatever names you can. Then use the apply method to fix the column. How many distinct vehicle makes are there when you’re done?"
   ]
  },
  {
   "cell_type": "code",
   "execution_count": 67,
   "metadata": {},
   "outputs": [
    {
     "data": {
      "text/plain": [
       "Vehicle Make\n",
       "TOYOT    1396714\n",
       "HONDA    1344479\n",
       "FORD     1329491\n",
       "NISSA    1121782\n",
       "CHEVR     712494\n",
       "          ...   \n",
       "BONEE          1\n",
       "AIFAP          1\n",
       "GOMCY          1\n",
       "PW             1\n",
       "KASAK          1\n",
       "Name: count, Length: 5001, dtype: int64"
      ]
     },
     "execution_count": 67,
     "metadata": {},
     "output_type": "execute_result"
    }
   ],
   "source": [
    "df['Vehicle Make'].value_counts()"
   ]
  },
  {
   "cell_type": "code",
   "execution_count": 64,
   "metadata": {},
   "outputs": [],
   "source": [
    "def names_standard(name):\n",
    "    name = str(name)\n",
    "    name = name.upper()\n",
    "    name = name.replace(' ', '')\n",
    "    name = name.replace('\"', '')\n",
    "    name = name.replace(\"'\", '')\n",
    "    name = name.replace('(', '')\n",
    "    name = name.replace(')', '')\n",
    "    name = name.replace('/', '')\n",
    "    name = name.replace('-', '')\n",
    "    name = name.replace('.', '')\n",
    "    name = name.replace(',', '')\n",
    "    name = name.replace('!', '')\n",
    "    name = name.replace('?', '')\n",
    "    name = name.replace(';', '')\n",
    "    name = name.replace(':', '')\n",
    "    name = name.replace('*', '')\n",
    "    name = name.replace('+', '')\n",
    "    return name"
   ]
  },
  {
   "cell_type": "code",
   "execution_count": 65,
   "metadata": {},
   "outputs": [
    {
     "data": {
      "text/plain": [
       "Vehicle Make\n",
       "TOYOT    1396714\n",
       "HONDA    1344479\n",
       "FORD     1329491\n",
       "NISSA    1121782\n",
       "CHEVR     712494\n",
       "FRUEH     530846\n",
       "MEBE      530474\n",
       "JEEP      491419\n",
       "BMW       488571\n",
       "DODGE     463326\n",
       "HYUND     358350\n",
       "LEXUS     294152\n",
       "ACURA     248228\n",
       "INTER     231149\n",
       "INFIN     230732\n",
       "GMC       214341\n",
       "SUBAR     206701\n",
       "VOLKS     193049\n",
       "AUDI      182417\n",
       "HIN       181538\n",
       "KIA       163209\n",
       "CHRYS     153449\n",
       "ISUZU     146876\n",
       "MAZDA     141305\n",
       "ROVER     102892\n",
       "CADIL     102404\n",
       "MITSU      95000\n",
       "VOLVO      92200\n",
       "NSOT       86826\n",
       "LINCO      81458\n",
       "Name: count, dtype: int64"
      ]
     },
     "execution_count": 65,
     "metadata": {},
     "output_type": "execute_result"
    }
   ],
   "source": [
    "df['Vehicle Make'] = df['Vehicle Make'].apply(names_standard)\n",
    "df['Vehicle Make'].value_counts().head(30)"
   ]
  },
  {
   "cell_type": "code",
   "execution_count": 66,
   "metadata": {},
   "outputs": [
    {
     "data": {
      "text/plain": [
       "5001"
      ]
     },
     "execution_count": 66,
     "metadata": {},
     "output_type": "execute_result"
    }
   ],
   "source": [
    "len(df['Vehicle Make'].value_counts())"
   ]
  },
  {
   "cell_type": "markdown",
   "metadata": {},
   "source": [
    "# Beyond 2\n",
    "### How standardized are the street names in the data set? What changes could you apply to improve things?"
   ]
  },
  {
   "cell_type": "code",
   "execution_count": 70,
   "metadata": {},
   "outputs": [
    {
     "data": {
      "text/plain": [
       "Street Name\n",
       "Broadway                180225\n",
       "3rd Ave                 133003\n",
       "5th Ave                  78211\n",
       "2nd Ave                  75533\n",
       "Madison Ave              75419\n",
       "Lexington Ave            62859\n",
       "1st Ave                  58491\n",
       "Queens Blvd              58423\n",
       "8th Ave                  54641\n",
       "WB ATLANTIC AVE @ CL     54298\n",
       "WB SEAGIRT BLVD @ CR     53142\n",
       "7th Ave                  51583\n",
       "6th Ave                  50750\n",
       "EB HORACE HARDING EX     50263\n",
       "Amsterdam Ave            46657\n",
       "EB CONDUIT BLVD @ GL     46185\n",
       "SB MAIN ST @ 82ND DR     45274\n",
       "NB SPRINGFIELD BLVD      44446\n",
       "Jamaica Ave              42859\n",
       "EB E 233RD ST @ KATO     42727\n",
       "37th Ave                 39865\n",
       "Park Ave                 36140\n",
       "WB ATLANTIC AVE @ SH     34989\n",
       "Roosevelt Ave            34702\n",
       "WB GOETHALS RD N @ J     34210\n",
       "WB LINDEN BLVD @ LIN     34187\n",
       "SB FRANCIS LEWIS BLV     34026\n",
       "Fulton St                33491\n",
       "EB HILLSIDE AVE @ 25     33382\n",
       "Columbus Ave             32971\n",
       "Name: count, dtype: int64"
      ]
     },
     "execution_count": 70,
     "metadata": {},
     "output_type": "execute_result"
    }
   ],
   "source": [
    "df['Street Name'].value_counts().head(30)\n"
   ]
  },
  {
   "cell_type": "code",
   "execution_count": 76,
   "metadata": {},
   "outputs": [],
   "source": [
    "def street_clean(street):\n",
    "    street = str(street)\n",
    "    street = street.upper()\n",
    "    street = street.replace('@',  '')\n",
    "    street = street.replace('\"', '')\n",
    "    street = street.replace(\"'\", '')\n",
    "    street = street.replace('(', '')\n",
    "    street = street.replace(')', '')\n",
    "    street = street.replace('/', '')\n",
    "    street = street.replace('-', '')\n",
    "    return street "
   ]
  },
  {
   "cell_type": "code",
   "execution_count": 77,
   "metadata": {},
   "outputs": [
    {
     "data": {
      "text/plain": [
       "52990"
      ]
     },
     "execution_count": 77,
     "metadata": {},
     "output_type": "execute_result"
    }
   ],
   "source": [
    "df['Street Name'] = df['Street Name'].apply(street_clean)\n",
    "df['Street Name'].value_counts().head(30)\n",
    "len(df['Street Name'].value_counts())\n"
   ]
  },
  {
   "cell_type": "code",
   "execution_count": 78,
   "metadata": {},
   "outputs": [
    {
     "data": {
      "text/plain": [
       "Street Name\n",
       "BROADWAY                190996\n",
       "3RD AVE                 138783\n",
       "5TH AVE                  83112\n",
       "MADISON AVE              81358\n",
       "2ND AVE                  79728\n",
       "LEXINGTON AVE            69386\n",
       "1ST AVE                  61913\n",
       "QUEENS BLVD              60017\n",
       "8TH AVE                  59756\n",
       "6TH AVE                  55400\n",
       "7TH AVE                  55070\n",
       "WB ATLANTIC AVE  CL      54298\n",
       "WB SEAGIRT BLVD  CR      53142\n",
       "EB HORACE HARDING EX     50263\n",
       "AMSTERDAM AVE            47967\n",
       "EB CONDUIT BLVD  GL      46185\n",
       "JAMAICA AVE              45430\n",
       "SB MAIN ST  82ND DR      45274\n",
       "NB SPRINGFIELD BLVD      44447\n",
       "EB E 233RD ST  KATO      42727\n",
       "PARK AVE                 40645\n",
       "37TH AVE                 39959\n",
       "ROOSEVELT AVE            36141\n",
       "FULTON ST                35854\n",
       "WB ATLANTIC AVE  SH      34989\n",
       "WB GOETHALS RD N  J      34210\n",
       "WHITE PLAINS RD          34189\n",
       "WB LINDEN BLVD  LIN      34187\n",
       "SB FRANCIS LEWIS BLV     34026\n",
       "EB HILLSIDE AVE  25      33382\n",
       "Name: count, dtype: int64"
      ]
     },
     "execution_count": 78,
     "metadata": {},
     "output_type": "execute_result"
    }
   ],
   "source": [
    "df['Street Name'].value_counts().head(30)"
   ]
  },
  {
   "cell_type": "markdown",
   "metadata": {},
   "source": [
    "# Beyond 3\n",
    "### Would you need to clean up the Registration State column? Why or why not?"
   ]
  },
  {
   "cell_type": "code",
   "execution_count": 82,
   "metadata": {},
   "outputs": [
    {
     "data": {
      "text/plain": [
       "Registration State\n",
       "NY    9753643\n",
       "NJ    1096110\n",
       "PA     338779\n",
       "FL     174056\n",
       "CT     165205\n",
       "       ...   \n",
       "PE         18\n",
       "SK          8\n",
       "MX          7\n",
       "NT          3\n",
       "YT          2\n",
       "Name: count, Length: 68, dtype: int64"
      ]
     },
     "execution_count": 82,
     "metadata": {},
     "output_type": "execute_result"
    }
   ],
   "source": [
    "df['Registration State'].value_counts()"
   ]
  },
  {
   "cell_type": "code",
   "execution_count": null,
   "metadata": {},
   "outputs": [],
   "source": []
  }
 ],
 "metadata": {
  "kernelspec": {
   "display_name": "pandaswout",
   "language": "python",
   "name": "python3"
  },
  "language_info": {
   "codemirror_mode": {
    "name": "ipython",
    "version": 3
   },
   "file_extension": ".py",
   "mimetype": "text/x-python",
   "name": "python",
   "nbconvert_exporter": "python",
   "pygments_lexer": "ipython3",
   "version": "3.12.4"
  }
 },
 "nbformat": 4,
 "nbformat_minor": 2
}
