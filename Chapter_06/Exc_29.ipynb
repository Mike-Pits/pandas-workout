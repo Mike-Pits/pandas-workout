{
 "cells": [
  {
   "cell_type": "code",
   "execution_count": 1,
   "metadata": {},
   "outputs": [],
   "source": [
    "import pandas as pd "
   ]
  },
  {
   "cell_type": "code",
   "execution_count": 3,
   "metadata": {},
   "outputs": [],
   "source": [
    "df = pd.read_csv('../data_sets/nyc_taxi_2019-01.csv',\n",
    "                 usecols=['passenger_count', 'trip_distance', 'total_amount'])"
   ]
  },
  {
   "cell_type": "code",
   "execution_count": 4,
   "metadata": {},
   "outputs": [
    {
     "data": {
      "text/html": [
       "<div>\n",
       "<style scoped>\n",
       "    .dataframe tbody tr th:only-of-type {\n",
       "        vertical-align: middle;\n",
       "    }\n",
       "\n",
       "    .dataframe tbody tr th {\n",
       "        vertical-align: top;\n",
       "    }\n",
       "\n",
       "    .dataframe thead th {\n",
       "        text-align: right;\n",
       "    }\n",
       "</style>\n",
       "<table border=\"1\" class=\"dataframe\">\n",
       "  <thead>\n",
       "    <tr style=\"text-align: right;\">\n",
       "      <th></th>\n",
       "      <th>passenger_count</th>\n",
       "      <th>trip_distance</th>\n",
       "      <th>total_amount</th>\n",
       "    </tr>\n",
       "  </thead>\n",
       "  <tbody>\n",
       "    <tr>\n",
       "      <th>0</th>\n",
       "      <td>1</td>\n",
       "      <td>1.5</td>\n",
       "      <td>9.95</td>\n",
       "    </tr>\n",
       "    <tr>\n",
       "      <th>1</th>\n",
       "      <td>1</td>\n",
       "      <td>2.6</td>\n",
       "      <td>16.30</td>\n",
       "    </tr>\n",
       "    <tr>\n",
       "      <th>2</th>\n",
       "      <td>3</td>\n",
       "      <td>0.0</td>\n",
       "      <td>5.80</td>\n",
       "    </tr>\n",
       "    <tr>\n",
       "      <th>3</th>\n",
       "      <td>5</td>\n",
       "      <td>0.0</td>\n",
       "      <td>7.55</td>\n",
       "    </tr>\n",
       "    <tr>\n",
       "      <th>4</th>\n",
       "      <td>5</td>\n",
       "      <td>0.0</td>\n",
       "      <td>55.55</td>\n",
       "    </tr>\n",
       "  </tbody>\n",
       "</table>\n",
       "</div>"
      ],
      "text/plain": [
       "   passenger_count  trip_distance  total_amount\n",
       "0                1            1.5          9.95\n",
       "1                1            2.6         16.30\n",
       "2                3            0.0          5.80\n",
       "3                5            0.0          7.55\n",
       "4                5            0.0         55.55"
      ]
     },
     "execution_count": 4,
     "metadata": {},
     "output_type": "execute_result"
    }
   ],
   "source": [
    "df.head()"
   ]
  },
  {
   "cell_type": "code",
   "execution_count": 12,
   "metadata": {},
   "outputs": [
    {
     "data": {
      "text/plain": [
       "290.0"
      ]
     },
     "execution_count": 12,
     "metadata": {},
     "output_type": "execute_result"
    }
   ],
   "source": [
    "(df\n",
    ".sort_values('trip_distance', ascending=False)['total_amount']\n",
    ".head(20)\n",
    ".mean()\n",
    ".round())"
   ]
  },
  {
   "cell_type": "code",
   "execution_count": 17,
   "metadata": {},
   "outputs": [
    {
     "data": {
      "text/plain": [
       "290.01"
      ]
     },
     "execution_count": 17,
     "metadata": {},
     "output_type": "execute_result"
    }
   ],
   "source": [
    "(df\n",
    ".sort_values('trip_distance', ascending=True)['total_amount'][-20:]\n",
    ".mean()\n",
    ".round(2)\n",
    ")"
   ]
  },
  {
   "cell_type": "markdown",
   "metadata": {},
   "source": [
    "### Sort by ascending passenger count and descending trip distance. (So, start with the longest trip with 0 passengers and end with the shortest trip with 9 passengers.) What is the average price paid for the top 50 rides?"
   ]
  },
  {
   "cell_type": "code",
   "execution_count": 18,
   "metadata": {},
   "outputs": [
    {
     "data": {
      "text/plain": [
       "135.5"
      ]
     },
     "execution_count": 18,
     "metadata": {},
     "output_type": "execute_result"
    }
   ],
   "source": [
    "(df\n",
    ".sort_values(['passenger_count', 'trip_distance'], ascending=[True, False])['total_amount']\n",
    ".head(50)\n",
    ".mean().\n",
    "round(2))"
   ]
  },
  {
   "cell_type": "code",
   "execution_count": 19,
   "metadata": {},
   "outputs": [
    {
     "data": {
      "text/plain": [
       "3528550    320.30\n",
       "3296320    336.35\n",
       "1878399    227.56\n",
       "5549709    260.30\n",
       "4176048    200.06\n",
       "5052064    234.06\n",
       "2715777      0.30\n",
       "515765     163.26\n",
       "1274793    112.56\n",
       "1904745    124.80\n",
       "Name: total_amount, dtype: float64"
      ]
     },
     "execution_count": 19,
     "metadata": {},
     "output_type": "execute_result"
    }
   ],
   "source": [
    "(df\n",
    ".sort_values(['passenger_count', 'trip_distance'], ascending=[True, False])['total_amount']\n",
    ".head(10))\n"
   ]
  },
  {
   "cell_type": "markdown",
   "metadata": {},
   "source": [
    "# Beyond 1\n",
    "### In which five rides did people pay the most per mile? How far did people go on those trips?"
   ]
  },
  {
   "cell_type": "code",
   "execution_count": 32,
   "metadata": {},
   "outputs": [],
   "source": [
    "df = pd.read_csv('../data_sets/nyc_taxi_2019-01.csv',\n",
    "                 usecols=['passenger_count', 'trip_distance', 'total_amount'])"
   ]
  },
  {
   "cell_type": "code",
   "execution_count": 33,
   "metadata": {},
   "outputs": [],
   "source": [
    "df = df[df['trip_distance'] !=0]"
   ]
  },
  {
   "cell_type": "code",
   "execution_count": 35,
   "metadata": {},
   "outputs": [
    {
     "data": {
      "text/html": [
       "<div>\n",
       "<style scoped>\n",
       "    .dataframe tbody tr th:only-of-type {\n",
       "        vertical-align: middle;\n",
       "    }\n",
       "\n",
       "    .dataframe tbody tr th {\n",
       "        vertical-align: top;\n",
       "    }\n",
       "\n",
       "    .dataframe thead th {\n",
       "        text-align: right;\n",
       "    }\n",
       "</style>\n",
       "<table border=\"1\" class=\"dataframe\">\n",
       "  <thead>\n",
       "    <tr style=\"text-align: right;\">\n",
       "      <th></th>\n",
       "      <th>passenger_count</th>\n",
       "      <th>trip_distance</th>\n",
       "      <th>total_amount</th>\n",
       "      <th>usd_per_mile</th>\n",
       "    </tr>\n",
       "  </thead>\n",
       "  <tbody>\n",
       "    <tr>\n",
       "      <th>4136499</th>\n",
       "      <td>1</td>\n",
       "      <td>0.01</td>\n",
       "      <td>273.96</td>\n",
       "      <td>27396.000000</td>\n",
       "    </tr>\n",
       "    <tr>\n",
       "      <th>6403254</th>\n",
       "      <td>1</td>\n",
       "      <td>0.01</td>\n",
       "      <td>322.30</td>\n",
       "      <td>32230.000000</td>\n",
       "    </tr>\n",
       "    <tr>\n",
       "      <th>7099014</th>\n",
       "      <td>4</td>\n",
       "      <td>0.01</td>\n",
       "      <td>415.30</td>\n",
       "      <td>41530.000000</td>\n",
       "    </tr>\n",
       "    <tr>\n",
       "      <th>478791</th>\n",
       "      <td>1</td>\n",
       "      <td>0.10</td>\n",
       "      <td>6667.45</td>\n",
       "      <td>66674.500000</td>\n",
       "    </tr>\n",
       "    <tr>\n",
       "      <th>2499600</th>\n",
       "      <td>1</td>\n",
       "      <td>2.40</td>\n",
       "      <td>623261.66</td>\n",
       "      <td>259692.358333</td>\n",
       "    </tr>\n",
       "  </tbody>\n",
       "</table>\n",
       "</div>"
      ],
      "text/plain": [
       "         passenger_count  trip_distance  total_amount   usd_per_mile\n",
       "4136499                1           0.01        273.96   27396.000000\n",
       "6403254                1           0.01        322.30   32230.000000\n",
       "7099014                4           0.01        415.30   41530.000000\n",
       "478791                 1           0.10       6667.45   66674.500000\n",
       "2499600                1           2.40     623261.66  259692.358333"
      ]
     },
     "execution_count": 35,
     "metadata": {},
     "output_type": "execute_result"
    }
   ],
   "source": [
    "df['usd_per_mile'] = df['total_amount']/df['trip_distance'] \n",
    "df.sort_values('usd_per_mile').tail(5) \n",
    "# df.sort_values('passenger_count', ascending=False).head(5)"
   ]
  },
  {
   "cell_type": "code",
   "execution_count": 28,
   "metadata": {},
   "outputs": [
    {
     "data": {
      "text/html": [
       "<div>\n",
       "<style scoped>\n",
       "    .dataframe tbody tr th:only-of-type {\n",
       "        vertical-align: middle;\n",
       "    }\n",
       "\n",
       "    .dataframe tbody tr th {\n",
       "        vertical-align: top;\n",
       "    }\n",
       "\n",
       "    .dataframe thead th {\n",
       "        text-align: right;\n",
       "    }\n",
       "</style>\n",
       "<table border=\"1\" class=\"dataframe\">\n",
       "  <thead>\n",
       "    <tr style=\"text-align: right;\">\n",
       "      <th></th>\n",
       "      <th>passenger_count</th>\n",
       "      <th>trip_distance</th>\n",
       "      <th>total_amount</th>\n",
       "      <th>usd_per_mile</th>\n",
       "      <th>usd_per_passenger</th>\n",
       "    </tr>\n",
       "  </thead>\n",
       "  <tbody>\n",
       "    <tr>\n",
       "      <th>1129038</th>\n",
       "      <td>1</td>\n",
       "      <td>0.0</td>\n",
       "      <td>3.30</td>\n",
       "      <td>inf</td>\n",
       "      <td>3.300</td>\n",
       "    </tr>\n",
       "    <tr>\n",
       "      <th>3171442</th>\n",
       "      <td>1</td>\n",
       "      <td>0.0</td>\n",
       "      <td>3.30</td>\n",
       "      <td>inf</td>\n",
       "      <td>3.300</td>\n",
       "    </tr>\n",
       "    <tr>\n",
       "      <th>4570397</th>\n",
       "      <td>2</td>\n",
       "      <td>0.0</td>\n",
       "      <td>63.35</td>\n",
       "      <td>inf</td>\n",
       "      <td>31.675</td>\n",
       "    </tr>\n",
       "    <tr>\n",
       "      <th>6613865</th>\n",
       "      <td>2</td>\n",
       "      <td>0.0</td>\n",
       "      <td>70.90</td>\n",
       "      <td>inf</td>\n",
       "      <td>35.450</td>\n",
       "    </tr>\n",
       "    <tr>\n",
       "      <th>5708974</th>\n",
       "      <td>1</td>\n",
       "      <td>0.0</td>\n",
       "      <td>63.06</td>\n",
       "      <td>inf</td>\n",
       "      <td>63.060</td>\n",
       "    </tr>\n",
       "  </tbody>\n",
       "</table>\n",
       "</div>"
      ],
      "text/plain": [
       "         passenger_count  trip_distance  total_amount  usd_per_mile  \\\n",
       "1129038                1            0.0          3.30           inf   \n",
       "3171442                1            0.0          3.30           inf   \n",
       "4570397                2            0.0         63.35           inf   \n",
       "6613865                2            0.0         70.90           inf   \n",
       "5708974                1            0.0         63.06           inf   \n",
       "\n",
       "         usd_per_passenger  \n",
       "1129038              3.300  \n",
       "3171442              3.300  \n",
       "4570397             31.675  \n",
       "6613865             35.450  \n",
       "5708974             63.060  "
      ]
     },
     "execution_count": 28,
     "metadata": {},
     "output_type": "execute_result"
    }
   ],
   "source": [
    "df.sort_values('usd_per_mile', ascending=False).head(5)\n"
   ]
  },
  {
   "cell_type": "code",
   "execution_count": 25,
   "metadata": {},
   "outputs": [
    {
     "data": {
      "text/plain": [
       "6757567     0.9\n",
       "3582605     6.1\n",
       "3582481     1.2\n",
       "2007665    10.6\n",
       "2007664     2.5\n",
       "Name: trip_distance, dtype: float64"
      ]
     },
     "execution_count": 25,
     "metadata": {},
     "output_type": "execute_result"
    }
   ],
   "source": [
    "df.sort_values('usd_per_passenger', ascending=False)['trip_distance'].head(5).iloc[:5]"
   ]
  },
  {
   "cell_type": "code",
   "execution_count": null,
   "metadata": {},
   "outputs": [],
   "source": []
  }
 ],
 "metadata": {
  "kernelspec": {
   "display_name": "pandaswout",
   "language": "python",
   "name": "python3"
  },
  "language_info": {
   "codemirror_mode": {
    "name": "ipython",
    "version": 3
   },
   "file_extension": ".py",
   "mimetype": "text/x-python",
   "name": "python",
   "nbconvert_exporter": "python",
   "pygments_lexer": "ipython3",
   "version": "3.12.4"
  }
 },
 "nbformat": 4,
 "nbformat_minor": 2
}
