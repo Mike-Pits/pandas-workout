{
 "cells": [
  {
   "cell_type": "code",
   "execution_count": 1,
   "metadata": {},
   "outputs": [],
   "source": [
    "import pandas as pd"
   ]
  },
  {
   "cell_type": "code",
   "execution_count": 4,
   "metadata": {},
   "outputs": [],
   "source": [
    "df = pd.read_csv('../data_sets/oecd_tourism.csv',\n",
    "                 usecols=['LOCATION', 'SUBJECT', 'TIME', 'Value'])"
   ]
  },
  {
   "cell_type": "code",
   "execution_count": 5,
   "metadata": {},
   "outputs": [
    {
     "data": {
      "text/html": [
       "<div>\n",
       "<style scoped>\n",
       "    .dataframe tbody tr th:only-of-type {\n",
       "        vertical-align: middle;\n",
       "    }\n",
       "\n",
       "    .dataframe tbody tr th {\n",
       "        vertical-align: top;\n",
       "    }\n",
       "\n",
       "    .dataframe thead th {\n",
       "        text-align: right;\n",
       "    }\n",
       "</style>\n",
       "<table border=\"1\" class=\"dataframe\">\n",
       "  <thead>\n",
       "    <tr style=\"text-align: right;\">\n",
       "      <th></th>\n",
       "      <th>LOCATION</th>\n",
       "      <th>SUBJECT</th>\n",
       "      <th>TIME</th>\n",
       "      <th>Value</th>\n",
       "    </tr>\n",
       "  </thead>\n",
       "  <tbody>\n",
       "    <tr>\n",
       "      <th>0</th>\n",
       "      <td>AUS</td>\n",
       "      <td>INT_REC</td>\n",
       "      <td>2008</td>\n",
       "      <td>31159.8</td>\n",
       "    </tr>\n",
       "    <tr>\n",
       "      <th>1</th>\n",
       "      <td>AUS</td>\n",
       "      <td>INT_REC</td>\n",
       "      <td>2009</td>\n",
       "      <td>29980.7</td>\n",
       "    </tr>\n",
       "    <tr>\n",
       "      <th>2</th>\n",
       "      <td>AUS</td>\n",
       "      <td>INT_REC</td>\n",
       "      <td>2010</td>\n",
       "      <td>35165.5</td>\n",
       "    </tr>\n",
       "    <tr>\n",
       "      <th>3</th>\n",
       "      <td>AUS</td>\n",
       "      <td>INT_REC</td>\n",
       "      <td>2011</td>\n",
       "      <td>38710.1</td>\n",
       "    </tr>\n",
       "    <tr>\n",
       "      <th>4</th>\n",
       "      <td>AUS</td>\n",
       "      <td>INT_REC</td>\n",
       "      <td>2012</td>\n",
       "      <td>38003.7</td>\n",
       "    </tr>\n",
       "  </tbody>\n",
       "</table>\n",
       "</div>"
      ],
      "text/plain": [
       "  LOCATION  SUBJECT  TIME    Value\n",
       "0      AUS  INT_REC  2008  31159.8\n",
       "1      AUS  INT_REC  2009  29980.7\n",
       "2      AUS  INT_REC  2010  35165.5\n",
       "3      AUS  INT_REC  2011  38710.1\n",
       "4      AUS  INT_REC  2012  38003.7"
      ]
     },
     "execution_count": 5,
     "metadata": {},
     "output_type": "execute_result"
    }
   ],
   "source": [
    "df.head()"
   ]
  },
  {
   "cell_type": "code",
   "execution_count": 15,
   "metadata": {},
   "outputs": [
    {
     "data": {
      "text/plain": [
       "LOCATION\n",
       "USA    201613.500000\n",
       "ESP     69655.817364\n",
       "FRA     65063.335727\n",
       "DEU     53408.570636\n",
       "GBR     51752.090909\n",
       "Name: Value, dtype: float64"
      ]
     },
     "execution_count": 15,
     "metadata": {},
     "output_type": "execute_result"
    }
   ],
   "source": [
    "df.loc[df['SUBJECT']=='INT_REC'].groupby('LOCATION')['Value'].mean().sort_values(ascending=False).head()"
   ]
  },
  {
   "cell_type": "code",
   "execution_count": 17,
   "metadata": {},
   "outputs": [
    {
     "data": {
      "text/plain": [
       "LOCATION\n",
       "MLT     387.801667\n",
       "CRI     867.075000\n",
       "LVA     919.545455\n",
       "ISL    1072.819636\n",
       "HRV    1115.628083\n",
       "Name: Value, dtype: float64"
      ]
     },
     "execution_count": 17,
     "metadata": {},
     "output_type": "execute_result"
    }
   ],
   "source": [
    "df.loc[df['SUBJECT']=='INT-EXP'].groupby(\"LOCATION\")['Value'].mean().sort_values().head()"
   ]
  },
  {
   "cell_type": "code",
   "execution_count": 41,
   "metadata": {},
   "outputs": [
    {
     "data": {
      "text/html": [
       "<div>\n",
       "<style scoped>\n",
       "    .dataframe tbody tr th:only-of-type {\n",
       "        vertical-align: middle;\n",
       "    }\n",
       "\n",
       "    .dataframe tbody tr th {\n",
       "        vertical-align: top;\n",
       "    }\n",
       "\n",
       "    .dataframe thead th {\n",
       "        text-align: right;\n",
       "    }\n",
       "</style>\n",
       "<table border=\"1\" class=\"dataframe\">\n",
       "  <thead>\n",
       "    <tr style=\"text-align: right;\">\n",
       "      <th></th>\n",
       "      <th>NAME</th>\n",
       "    </tr>\n",
       "    <tr>\n",
       "      <th>LOCATION</th>\n",
       "      <th></th>\n",
       "    </tr>\n",
       "  </thead>\n",
       "  <tbody>\n",
       "    <tr>\n",
       "      <th>AUS</th>\n",
       "      <td>Australia</td>\n",
       "    </tr>\n",
       "    <tr>\n",
       "      <th>AUT</th>\n",
       "      <td>Austria</td>\n",
       "    </tr>\n",
       "    <tr>\n",
       "      <th>BEL</th>\n",
       "      <td>Belgium</td>\n",
       "    </tr>\n",
       "    <tr>\n",
       "      <th>CAN</th>\n",
       "      <td>Canada</td>\n",
       "    </tr>\n",
       "    <tr>\n",
       "      <th>DNK</th>\n",
       "      <td>Denmark</td>\n",
       "    </tr>\n",
       "  </tbody>\n",
       "</table>\n",
       "</div>"
      ],
      "text/plain": [
       "               NAME\n",
       "LOCATION           \n",
       "AUS       Australia\n",
       "AUT         Austria\n",
       "BEL         Belgium\n",
       "CAN          Canada\n",
       "DNK         Denmark"
      ]
     },
     "execution_count": 41,
     "metadata": {},
     "output_type": "execute_result"
    }
   ],
   "source": [
    "df_3 = pd.read_csv('../data_sets/oecd_locations.csv',\n",
    "                   header=None,\n",
    "                   names=['LOCATION', 'NAME'],\n",
    "                   index_col='LOCATION')\n",
    "df_3.head()"
   ]
  },
  {
   "cell_type": "code",
   "execution_count": 42,
   "metadata": {},
   "outputs": [
    {
     "data": {
      "text/html": [
       "<div>\n",
       "<style scoped>\n",
       "    .dataframe tbody tr th:only-of-type {\n",
       "        vertical-align: middle;\n",
       "    }\n",
       "\n",
       "    .dataframe tbody tr th {\n",
       "        vertical-align: top;\n",
       "    }\n",
       "\n",
       "    .dataframe thead th {\n",
       "        text-align: right;\n",
       "    }\n",
       "</style>\n",
       "<table border=\"1\" class=\"dataframe\">\n",
       "  <thead>\n",
       "    <tr style=\"text-align: right;\">\n",
       "      <th></th>\n",
       "      <th>NAME</th>\n",
       "      <th>SUBJECT</th>\n",
       "      <th>TIME</th>\n",
       "      <th>Value</th>\n",
       "    </tr>\n",
       "    <tr>\n",
       "      <th>LOCATION</th>\n",
       "      <th></th>\n",
       "      <th></th>\n",
       "      <th></th>\n",
       "      <th></th>\n",
       "    </tr>\n",
       "  </thead>\n",
       "  <tbody>\n",
       "    <tr>\n",
       "      <th>AUS</th>\n",
       "      <td>Australia</td>\n",
       "      <td>INT_REC</td>\n",
       "      <td>2008</td>\n",
       "      <td>31159.8</td>\n",
       "    </tr>\n",
       "    <tr>\n",
       "      <th>AUS</th>\n",
       "      <td>Australia</td>\n",
       "      <td>INT_REC</td>\n",
       "      <td>2009</td>\n",
       "      <td>29980.7</td>\n",
       "    </tr>\n",
       "    <tr>\n",
       "      <th>AUS</th>\n",
       "      <td>Australia</td>\n",
       "      <td>INT_REC</td>\n",
       "      <td>2010</td>\n",
       "      <td>35165.5</td>\n",
       "    </tr>\n",
       "    <tr>\n",
       "      <th>AUS</th>\n",
       "      <td>Australia</td>\n",
       "      <td>INT_REC</td>\n",
       "      <td>2011</td>\n",
       "      <td>38710.1</td>\n",
       "    </tr>\n",
       "    <tr>\n",
       "      <th>AUS</th>\n",
       "      <td>Australia</td>\n",
       "      <td>INT_REC</td>\n",
       "      <td>2012</td>\n",
       "      <td>38003.7</td>\n",
       "    </tr>\n",
       "  </tbody>\n",
       "</table>\n",
       "</div>"
      ],
      "text/plain": [
       "               NAME  SUBJECT  TIME    Value\n",
       "LOCATION                                   \n",
       "AUS       Australia  INT_REC  2008  31159.8\n",
       "AUS       Australia  INT_REC  2009  29980.7\n",
       "AUS       Australia  INT_REC  2010  35165.5\n",
       "AUS       Australia  INT_REC  2011  38710.1\n",
       "AUS       Australia  INT_REC  2012  38003.7"
      ]
     },
     "execution_count": 42,
     "metadata": {},
     "output_type": "execute_result"
    }
   ],
   "source": [
    "full_df = df_3.join(df.set_index('LOCATION'))\n",
    "full_df.head()"
   ]
  },
  {
   "cell_type": "code",
   "execution_count": 25,
   "metadata": {},
   "outputs": [
    {
     "data": {
      "text/plain": [
       "NAME\n",
       "United States     201613.500000\n",
       "France             65063.335727\n",
       "Germany            53408.570636\n",
       "United Kingdom     51752.090909\n",
       "Italy              44930.211545\n",
       "Name: Value, dtype: float64"
      ]
     },
     "execution_count": 25,
     "metadata": {},
     "output_type": "execute_result"
    }
   ],
   "source": [
    "(full_df\n",
    " .loc[full_df['SUBJECT']=='INT_REC']\n",
    " .groupby('NAME')['Value']\n",
    " .mean()\n",
    " .sort_values(ascending=False)\n",
    " .head())"
   ]
  },
  {
   "cell_type": "code",
   "execution_count": 26,
   "metadata": {},
   "outputs": [
    {
     "data": {
      "text/plain": [
       "NAME\n",
       "Hungary     2918.390182\n",
       "Finland     5877.080909\n",
       "Israel      6726.524833\n",
       "Denmark    11326.169636\n",
       "Austria    11934.563636\n",
       "Name: Value, dtype: float64"
      ]
     },
     "execution_count": 26,
     "metadata": {},
     "output_type": "execute_result"
    }
   ],
   "source": [
    "(\n",
    "    full_df\n",
    "    .loc[full_df['SUBJECT'] == 'INT-EXP']\n",
    "    .groupby('NAME')['Value']\n",
    "    .mean()\n",
    "    .sort_values()\n",
    "    .head()\n",
    "             \n",
    ")"
   ]
  },
  {
   "cell_type": "markdown",
   "metadata": {},
   "source": [
    "# Beyond 1\n",
    "### What happens if you perform the join in the other direction? That is, what if you invoke join on tourism_df, passing it an argument of locations_df? Do you get the same result?"
   ]
  },
  {
   "cell_type": "code",
   "execution_count": 33,
   "metadata": {},
   "outputs": [],
   "source": [
    "df_3 = pd.read_csv('../data_sets/oecd_locations.csv',\n",
    "                   header=None,\n",
    "                   names=['LOCATION', 'NAME'],\n",
    "                   index_col='LOCATION')"
   ]
  },
  {
   "cell_type": "code",
   "execution_count": 36,
   "metadata": {},
   "outputs": [
    {
     "data": {
      "text/html": [
       "<div>\n",
       "<style scoped>\n",
       "    .dataframe tbody tr th:only-of-type {\n",
       "        vertical-align: middle;\n",
       "    }\n",
       "\n",
       "    .dataframe tbody tr th {\n",
       "        vertical-align: top;\n",
       "    }\n",
       "\n",
       "    .dataframe thead th {\n",
       "        text-align: right;\n",
       "    }\n",
       "</style>\n",
       "<table border=\"1\" class=\"dataframe\">\n",
       "  <thead>\n",
       "    <tr style=\"text-align: right;\">\n",
       "      <th></th>\n",
       "      <th>SUBJECT</th>\n",
       "      <th>TIME</th>\n",
       "      <th>Value</th>\n",
       "      <th>NAME</th>\n",
       "    </tr>\n",
       "    <tr>\n",
       "      <th>LOCATION</th>\n",
       "      <th></th>\n",
       "      <th></th>\n",
       "      <th></th>\n",
       "      <th></th>\n",
       "    </tr>\n",
       "  </thead>\n",
       "  <tbody>\n",
       "    <tr>\n",
       "      <th>AUS</th>\n",
       "      <td>INT_REC</td>\n",
       "      <td>2008</td>\n",
       "      <td>31159.8</td>\n",
       "      <td>Australia</td>\n",
       "    </tr>\n",
       "    <tr>\n",
       "      <th>AUS</th>\n",
       "      <td>INT_REC</td>\n",
       "      <td>2009</td>\n",
       "      <td>29980.7</td>\n",
       "      <td>Australia</td>\n",
       "    </tr>\n",
       "    <tr>\n",
       "      <th>AUS</th>\n",
       "      <td>INT_REC</td>\n",
       "      <td>2010</td>\n",
       "      <td>35165.5</td>\n",
       "      <td>Australia</td>\n",
       "    </tr>\n",
       "    <tr>\n",
       "      <th>AUS</th>\n",
       "      <td>INT_REC</td>\n",
       "      <td>2011</td>\n",
       "      <td>38710.1</td>\n",
       "      <td>Australia</td>\n",
       "    </tr>\n",
       "    <tr>\n",
       "      <th>AUS</th>\n",
       "      <td>INT_REC</td>\n",
       "      <td>2012</td>\n",
       "      <td>38003.7</td>\n",
       "      <td>Australia</td>\n",
       "    </tr>\n",
       "  </tbody>\n",
       "</table>\n",
       "</div>"
      ],
      "text/plain": [
       "          SUBJECT  TIME    Value       NAME\n",
       "LOCATION                                   \n",
       "AUS       INT_REC  2008  31159.8  Australia\n",
       "AUS       INT_REC  2009  29980.7  Australia\n",
       "AUS       INT_REC  2010  35165.5  Australia\n",
       "AUS       INT_REC  2011  38710.1  Australia\n",
       "AUS       INT_REC  2012  38003.7  Australia"
      ]
     },
     "execution_count": 36,
     "metadata": {},
     "output_type": "execute_result"
    }
   ],
   "source": [
    "full_df_inverse = df.set_index('LOCATION').join(df_3)\n",
    "full_df_inverse.head()\n",
    "# The result is  the same"
   ]
  },
  {
   "cell_type": "markdown",
   "metadata": {},
   "source": [
    "# Beyond 2\n",
    "### Get the mean tourism income per year rather than by country. Do you see any evidence of less tourism income during the time of the Great Recession, which started in 2008?"
   ]
  },
  {
   "cell_type": "code",
   "execution_count": 47,
   "metadata": {},
   "outputs": [
    {
     "data": {
      "text/plain": [
       "TIME\n",
       "2019    62786.617333\n",
       "2018    43185.853875\n",
       "2017    40326.702250\n",
       "2014    40043.334563\n",
       "2016    39483.592062\n",
       "2015    38912.695437\n",
       "2013    37996.198750\n",
       "2012    35628.632063\n",
       "2011    34299.966375\n",
       "2008    31757.065750\n",
       "2010    30949.524125\n",
       "2009    28505.886562\n",
       "Name: Value, dtype: float64"
      ]
     },
     "execution_count": 47,
     "metadata": {},
     "output_type": "execute_result"
    }
   ],
   "source": [
    "(full_df\n",
    " .loc[full_df['SUBJECT'] == 'INT_REC']\n",
    " .groupby('TIME')['Value']\n",
    " .mean()\n",
    " .sort_values(ascending=False)\n",
    "  \n",
    " )"
   ]
  },
  {
   "cell_type": "markdown",
   "metadata": {},
   "source": [
    "# Beyond 3\n",
    "### Reset the index on locations_df such that it has a (default) numeric index and two columns (LOCATION and NAME). Now run join on locations_df, specifying that you want to use the LOCATION column on the caller rather than its index. (The data frame passed as an argument to join will always be joined on its index.)"
   ]
  },
  {
   "cell_type": "code",
   "execution_count": 50,
   "metadata": {},
   "outputs": [],
   "source": [
    "locations_df  = df_3.reset_index()"
   ]
  },
  {
   "cell_type": "code",
   "execution_count": 52,
   "metadata": {},
   "outputs": [],
   "source": [
    "df = df.set_index('LOCATION')"
   ]
  },
  {
   "cell_type": "code",
   "execution_count": 53,
   "metadata": {},
   "outputs": [],
   "source": [
    "join_df = locations_df.join(df, on='LOCATION')"
   ]
  },
  {
   "cell_type": "code",
   "execution_count": 55,
   "metadata": {},
   "outputs": [
    {
     "data": {
      "text/html": [
       "<div>\n",
       "<style scoped>\n",
       "    .dataframe tbody tr th:only-of-type {\n",
       "        vertical-align: middle;\n",
       "    }\n",
       "\n",
       "    .dataframe tbody tr th {\n",
       "        vertical-align: top;\n",
       "    }\n",
       "\n",
       "    .dataframe thead th {\n",
       "        text-align: right;\n",
       "    }\n",
       "</style>\n",
       "<table border=\"1\" class=\"dataframe\">\n",
       "  <thead>\n",
       "    <tr style=\"text-align: right;\">\n",
       "      <th></th>\n",
       "      <th>NAME</th>\n",
       "      <th>SUBJECT</th>\n",
       "      <th>TIME</th>\n",
       "      <th>Value</th>\n",
       "    </tr>\n",
       "    <tr>\n",
       "      <th>LOCATION</th>\n",
       "      <th></th>\n",
       "      <th></th>\n",
       "      <th></th>\n",
       "      <th></th>\n",
       "    </tr>\n",
       "  </thead>\n",
       "  <tbody>\n",
       "    <tr>\n",
       "      <th>AUS</th>\n",
       "      <td>Australia</td>\n",
       "      <td>INT_REC</td>\n",
       "      <td>2008</td>\n",
       "      <td>31159.8</td>\n",
       "    </tr>\n",
       "    <tr>\n",
       "      <th>AUS</th>\n",
       "      <td>Australia</td>\n",
       "      <td>INT_REC</td>\n",
       "      <td>2009</td>\n",
       "      <td>29980.7</td>\n",
       "    </tr>\n",
       "    <tr>\n",
       "      <th>AUS</th>\n",
       "      <td>Australia</td>\n",
       "      <td>INT_REC</td>\n",
       "      <td>2010</td>\n",
       "      <td>35165.5</td>\n",
       "    </tr>\n",
       "    <tr>\n",
       "      <th>AUS</th>\n",
       "      <td>Australia</td>\n",
       "      <td>INT_REC</td>\n",
       "      <td>2011</td>\n",
       "      <td>38710.1</td>\n",
       "    </tr>\n",
       "    <tr>\n",
       "      <th>AUS</th>\n",
       "      <td>Australia</td>\n",
       "      <td>INT_REC</td>\n",
       "      <td>2012</td>\n",
       "      <td>38003.7</td>\n",
       "    </tr>\n",
       "  </tbody>\n",
       "</table>\n",
       "</div>"
      ],
      "text/plain": [
       "               NAME  SUBJECT  TIME    Value\n",
       "LOCATION                                   \n",
       "AUS       Australia  INT_REC  2008  31159.8\n",
       "AUS       Australia  INT_REC  2009  29980.7\n",
       "AUS       Australia  INT_REC  2010  35165.5\n",
       "AUS       Australia  INT_REC  2011  38710.1\n",
       "AUS       Australia  INT_REC  2012  38003.7"
      ]
     },
     "execution_count": 55,
     "metadata": {},
     "output_type": "execute_result"
    }
   ],
   "source": [
    "join_df.set_index(\"LOCATION\").head()"
   ]
  },
  {
   "cell_type": "code",
   "execution_count": null,
   "metadata": {},
   "outputs": [],
   "source": []
  }
 ],
 "metadata": {
  "kernelspec": {
   "display_name": "pandaswout",
   "language": "python",
   "name": "python3"
  },
  "language_info": {
   "codemirror_mode": {
    "name": "ipython",
    "version": 3
   },
   "file_extension": ".py",
   "mimetype": "text/x-python",
   "name": "python",
   "nbconvert_exporter": "python",
   "pygments_lexer": "ipython3",
   "version": "3.12.4"
  }
 },
 "nbformat": 4,
 "nbformat_minor": 2
}
