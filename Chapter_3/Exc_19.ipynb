{
 "cells": [
  {
   "cell_type": "code",
   "execution_count": 1,
   "metadata": {},
   "outputs": [],
   "source": [
    "import pandas as pd"
   ]
  },
  {
   "cell_type": "code",
   "execution_count": 18,
   "metadata": {},
   "outputs": [
    {
     "data": {
      "text/html": [
       "<div>\n",
       "<style scoped>\n",
       "    .dataframe tbody tr th:only-of-type {\n",
       "        vertical-align: middle;\n",
       "    }\n",
       "\n",
       "    .dataframe tbody tr th {\n",
       "        vertical-align: top;\n",
       "    }\n",
       "\n",
       "    .dataframe thead th {\n",
       "        text-align: right;\n",
       "    }\n",
       "</style>\n",
       "<table border=\"1\" class=\"dataframe\">\n",
       "  <thead>\n",
       "    <tr style=\"text-align: right;\">\n",
       "      <th></th>\n",
       "      <th>date</th>\n",
       "      <th>value</th>\n",
       "    </tr>\n",
       "  </thead>\n",
       "  <tbody>\n",
       "    <tr>\n",
       "      <th>0</th>\n",
       "      <td>2023-09-02 00:00:00</td>\n",
       "      <td>25802.10</td>\n",
       "    </tr>\n",
       "    <tr>\n",
       "      <th>1</th>\n",
       "      <td>2023-09-03 00:00:00</td>\n",
       "      <td>25869.09</td>\n",
       "    </tr>\n",
       "    <tr>\n",
       "      <th>2</th>\n",
       "      <td>2023-09-04 00:00:00</td>\n",
       "      <td>25969.05</td>\n",
       "    </tr>\n",
       "    <tr>\n",
       "      <th>3</th>\n",
       "      <td>2023-09-05 00:00:00</td>\n",
       "      <td>25810.86</td>\n",
       "    </tr>\n",
       "    <tr>\n",
       "      <th>4</th>\n",
       "      <td>2023-09-06 00:00:00</td>\n",
       "      <td>25785.30</td>\n",
       "    </tr>\n",
       "  </tbody>\n",
       "</table>\n",
       "</div>"
      ],
      "text/plain": [
       "                  date     value\n",
       "0  2023-09-02 00:00:00  25802.10\n",
       "1  2023-09-03 00:00:00  25869.09\n",
       "2  2023-09-04 00:00:00  25969.05\n",
       "3  2023-09-05 00:00:00  25810.86\n",
       "4  2023-09-06 00:00:00  25785.30"
      ]
     },
     "execution_count": 18,
     "metadata": {},
     "output_type": "execute_result"
    }
   ],
   "source": [
    "df = pd.read_csv('https://api.blockchain.info/charts/market-price?format=csv', header=None, names=['date', 'value'])\n",
    "df.head()"
   ]
  },
  {
   "cell_type": "code",
   "execution_count": 19,
   "metadata": {},
   "outputs": [
    {
     "data": {
      "text/html": [
       "<div>\n",
       "<style scoped>\n",
       "    .dataframe tbody tr th:only-of-type {\n",
       "        vertical-align: middle;\n",
       "    }\n",
       "\n",
       "    .dataframe tbody tr th {\n",
       "        vertical-align: top;\n",
       "    }\n",
       "\n",
       "    .dataframe thead th {\n",
       "        text-align: right;\n",
       "    }\n",
       "</style>\n",
       "<table border=\"1\" class=\"dataframe\">\n",
       "  <thead>\n",
       "    <tr style=\"text-align: right;\">\n",
       "      <th></th>\n",
       "      <th>date</th>\n",
       "      <th>value</th>\n",
       "    </tr>\n",
       "  </thead>\n",
       "  <tbody>\n",
       "    <tr>\n",
       "      <th>361</th>\n",
       "      <td>2024-08-28 00:00:00</td>\n",
       "      <td>59466.82</td>\n",
       "    </tr>\n",
       "    <tr>\n",
       "      <th>362</th>\n",
       "      <td>2024-08-29 00:00:00</td>\n",
       "      <td>59024.11</td>\n",
       "    </tr>\n",
       "    <tr>\n",
       "      <th>363</th>\n",
       "      <td>2024-08-30 00:00:00</td>\n",
       "      <td>59389.34</td>\n",
       "    </tr>\n",
       "    <tr>\n",
       "      <th>364</th>\n",
       "      <td>2024-08-31 00:00:00</td>\n",
       "      <td>59108.23</td>\n",
       "    </tr>\n",
       "    <tr>\n",
       "      <th>365</th>\n",
       "      <td>2024-09-01 00:00:00</td>\n",
       "      <td>58968.91</td>\n",
       "    </tr>\n",
       "  </tbody>\n",
       "</table>\n",
       "</div>"
      ],
      "text/plain": [
       "                    date     value\n",
       "361  2024-08-28 00:00:00  59466.82\n",
       "362  2024-08-29 00:00:00  59024.11\n",
       "363  2024-08-30 00:00:00  59389.34\n",
       "364  2024-08-31 00:00:00  59108.23\n",
       "365  2024-09-01 00:00:00  58968.91"
      ]
     },
     "execution_count": 19,
     "metadata": {},
     "output_type": "execute_result"
    }
   ],
   "source": [
    "df.tail()"
   ]
  },
  {
   "cell_type": "markdown",
   "metadata": {},
   "source": [
    "### Question: The closing price for the most recent trading day"
   ]
  },
  {
   "cell_type": "code",
   "execution_count": 13,
   "metadata": {},
   "outputs": [
    {
     "data": {
      "text/plain": [
       "(365, 2)"
      ]
     },
     "execution_count": 13,
     "metadata": {},
     "output_type": "execute_result"
    }
   ],
   "source": [
    "df.shape"
   ]
  },
  {
   "cell_type": "code",
   "execution_count": 24,
   "metadata": {},
   "outputs": [
    {
     "data": {
      "text/html": [
       "<div>\n",
       "<style scoped>\n",
       "    .dataframe tbody tr th:only-of-type {\n",
       "        vertical-align: middle;\n",
       "    }\n",
       "\n",
       "    .dataframe tbody tr th {\n",
       "        vertical-align: top;\n",
       "    }\n",
       "\n",
       "    .dataframe thead th {\n",
       "        text-align: right;\n",
       "    }\n",
       "</style>\n",
       "<table border=\"1\" class=\"dataframe\">\n",
       "  <thead>\n",
       "    <tr style=\"text-align: right;\">\n",
       "      <th></th>\n",
       "      <th>value</th>\n",
       "    </tr>\n",
       "  </thead>\n",
       "  <tbody>\n",
       "    <tr>\n",
       "      <th>365</th>\n",
       "      <td>58968.91</td>\n",
       "    </tr>\n",
       "  </tbody>\n",
       "</table>\n",
       "</div>"
      ],
      "text/plain": [
       "        value\n",
       "365  58968.91"
      ]
     },
     "execution_count": 24,
     "metadata": {},
     "output_type": "execute_result"
    }
   ],
   "source": [
    "df.tail(1)[['value']]"
   ]
  },
  {
   "cell_type": "code",
   "execution_count": 4,
   "metadata": {},
   "outputs": [
    {
     "data": {
      "text/plain": [
       "58968.91"
      ]
     },
     "execution_count": 4,
     "metadata": {},
     "output_type": "execute_result"
    }
   ],
   "source": [
    "df.iloc[-1, 1]"
   ]
  },
  {
   "cell_type": "markdown",
   "metadata": {},
   "source": [
    "### The lowest historical price and the date of that price"
   ]
  },
  {
   "cell_type": "code",
   "execution_count": 25,
   "metadata": {},
   "outputs": [
    {
     "data": {
      "text/html": [
       "<div>\n",
       "<style scoped>\n",
       "    .dataframe tbody tr th:only-of-type {\n",
       "        vertical-align: middle;\n",
       "    }\n",
       "\n",
       "    .dataframe tbody tr th {\n",
       "        vertical-align: top;\n",
       "    }\n",
       "\n",
       "    .dataframe thead th {\n",
       "        text-align: right;\n",
       "    }\n",
       "</style>\n",
       "<table border=\"1\" class=\"dataframe\">\n",
       "  <thead>\n",
       "    <tr style=\"text-align: right;\">\n",
       "      <th></th>\n",
       "      <th>date</th>\n",
       "      <th>value</th>\n",
       "    </tr>\n",
       "  </thead>\n",
       "  <tbody>\n",
       "    <tr>\n",
       "      <th>10</th>\n",
       "      <td>2023-09-12 00:00:00</td>\n",
       "      <td>25162.7</td>\n",
       "    </tr>\n",
       "  </tbody>\n",
       "</table>\n",
       "</div>"
      ],
      "text/plain": [
       "                   date    value\n",
       "10  2023-09-12 00:00:00  25162.7"
      ]
     },
     "execution_count": 25,
     "metadata": {},
     "output_type": "execute_result"
    }
   ],
   "source": [
    "df.loc[df['value'] == df['value'].min(), ['date', 'value']]"
   ]
  },
  {
   "cell_type": "markdown",
   "metadata": {},
   "source": [
    "### The highest historical price and the date of that price"
   ]
  },
  {
   "cell_type": "code",
   "execution_count": 27,
   "metadata": {},
   "outputs": [
    {
     "data": {
      "text/html": [
       "<div>\n",
       "<style scoped>\n",
       "    .dataframe tbody tr th:only-of-type {\n",
       "        vertical-align: middle;\n",
       "    }\n",
       "\n",
       "    .dataframe tbody tr th {\n",
       "        vertical-align: top;\n",
       "    }\n",
       "\n",
       "    .dataframe thead th {\n",
       "        text-align: right;\n",
       "    }\n",
       "</style>\n",
       "<table border=\"1\" class=\"dataframe\">\n",
       "  <thead>\n",
       "    <tr style=\"text-align: right;\">\n",
       "      <th></th>\n",
       "      <th>date</th>\n",
       "      <th>value</th>\n",
       "    </tr>\n",
       "  </thead>\n",
       "  <tbody>\n",
       "    <tr>\n",
       "      <th>194</th>\n",
       "      <td>2024-03-14 00:00:00</td>\n",
       "      <td>73094.37</td>\n",
       "    </tr>\n",
       "  </tbody>\n",
       "</table>\n",
       "</div>"
      ],
      "text/plain": [
       "                    date     value\n",
       "194  2024-03-14 00:00:00  73094.37"
      ]
     },
     "execution_count": 27,
     "metadata": {},
     "output_type": "execute_result"
    }
   ],
   "source": [
    "df.loc[df['value'] == df['value'].max(), ['date', 'value']]"
   ]
  },
  {
   "cell_type": "code",
   "execution_count": 28,
   "metadata": {},
   "outputs": [
    {
     "data": {
      "text/html": [
       "<div>\n",
       "<style scoped>\n",
       "    .dataframe tbody tr th:only-of-type {\n",
       "        vertical-align: middle;\n",
       "    }\n",
       "\n",
       "    .dataframe tbody tr th {\n",
       "        vertical-align: top;\n",
       "    }\n",
       "\n",
       "    .dataframe thead th {\n",
       "        text-align: right;\n",
       "    }\n",
       "</style>\n",
       "<table border=\"1\" class=\"dataframe\">\n",
       "  <thead>\n",
       "    <tr style=\"text-align: right;\">\n",
       "      <th></th>\n",
       "      <th>value</th>\n",
       "    </tr>\n",
       "  </thead>\n",
       "  <tbody>\n",
       "    <tr>\n",
       "      <th>idxmin</th>\n",
       "      <td>2023-09-12 00:00:00</td>\n",
       "    </tr>\n",
       "    <tr>\n",
       "      <th>idxmax</th>\n",
       "      <td>2024-03-14 00:00:00</td>\n",
       "    </tr>\n",
       "  </tbody>\n",
       "</table>\n",
       "</div>"
      ],
      "text/plain": [
       "                      value\n",
       "idxmin  2023-09-12 00:00:00\n",
       "idxmax  2024-03-14 00:00:00"
      ]
     },
     "execution_count": 28,
     "metadata": {},
     "output_type": "execute_result"
    }
   ],
   "source": [
    "df.set_index('date').agg(['idxmin', 'idxmax'])"
   ]
  },
  {
   "cell_type": "code",
   "execution_count": 29,
   "metadata": {},
   "outputs": [
    {
     "data": {
      "text/html": [
       "<div>\n",
       "<style scoped>\n",
       "    .dataframe tbody tr th:only-of-type {\n",
       "        vertical-align: middle;\n",
       "    }\n",
       "\n",
       "    .dataframe tbody tr th {\n",
       "        vertical-align: top;\n",
       "    }\n",
       "\n",
       "    .dataframe thead th {\n",
       "        text-align: right;\n",
       "    }\n",
       "</style>\n",
       "<table border=\"1\" class=\"dataframe\">\n",
       "  <thead>\n",
       "    <tr style=\"text-align: right;\">\n",
       "      <th></th>\n",
       "      <th>date</th>\n",
       "      <th>value</th>\n",
       "    </tr>\n",
       "  </thead>\n",
       "  <tbody>\n",
       "    <tr>\n",
       "      <th>0</th>\n",
       "      <td>2023-09-02 00:00:00</td>\n",
       "      <td>25802.10</td>\n",
       "    </tr>\n",
       "    <tr>\n",
       "      <th>1</th>\n",
       "      <td>2023-09-03 00:00:00</td>\n",
       "      <td>25869.09</td>\n",
       "    </tr>\n",
       "    <tr>\n",
       "      <th>2</th>\n",
       "      <td>2023-09-04 00:00:00</td>\n",
       "      <td>25969.05</td>\n",
       "    </tr>\n",
       "    <tr>\n",
       "      <th>3</th>\n",
       "      <td>2023-09-05 00:00:00</td>\n",
       "      <td>25810.86</td>\n",
       "    </tr>\n",
       "    <tr>\n",
       "      <th>4</th>\n",
       "      <td>2023-09-06 00:00:00</td>\n",
       "      <td>25785.30</td>\n",
       "    </tr>\n",
       "  </tbody>\n",
       "</table>\n",
       "</div>"
      ],
      "text/plain": [
       "                  date     value\n",
       "0  2023-09-02 00:00:00  25802.10\n",
       "1  2023-09-03 00:00:00  25869.09\n",
       "2  2023-09-04 00:00:00  25969.05\n",
       "3  2023-09-05 00:00:00  25810.86\n",
       "4  2023-09-06 00:00:00  25785.30"
      ]
     },
     "execution_count": 29,
     "metadata": {},
     "output_type": "execute_result"
    }
   ],
   "source": [
    "df.head()"
   ]
  },
  {
   "cell_type": "code",
   "execution_count": 32,
   "metadata": {},
   "outputs": [
    {
     "data": {
      "text/plain": [
       "value    2024-03-14 00:00:00\n",
       "dtype: object"
      ]
     },
     "execution_count": 32,
     "metadata": {},
     "output_type": "execute_result"
    }
   ],
   "source": [
    "df.set_index('date').idxmax()"
   ]
  },
  {
   "cell_type": "code",
   "execution_count": 62,
   "metadata": {},
   "outputs": [
    {
     "data": {
      "text/plain": [
       "date     2024-03-14 00:00:00\n",
       "value               73094.37\n",
       "Name: 194, dtype: object"
      ]
     },
     "execution_count": 62,
     "metadata": {},
     "output_type": "execute_result"
    }
   ],
   "source": [
    "df.loc[(df['value'].idxmax()), ['date', 'value']]"
   ]
  },
  {
   "cell_type": "markdown",
   "metadata": {},
   "source": [
    "# Beyond 1\n",
    "### In this exercise, you downloaded the information into a data frame and then\n",
    "### performed calculations on it. Without assigning the downloaded data to an\n",
    "### interim variable, can you return the current value? Your solution should consist\n",
    "### of a single line of code that includes the download, selection, and calculation."
   ]
  },
  {
   "cell_type": "code",
   "execution_count": 63,
   "metadata": {},
   "outputs": [
    {
     "data": {
      "text/plain": [
       "365    58968.91\n",
       "Name: value, dtype: float64"
      ]
     },
     "execution_count": 63,
     "metadata": {},
     "output_type": "execute_result"
    }
   ],
   "source": [
    "pd.read_csv('https://api.blockchain.info/charts/market-price?format=csv', \n",
    "            header=None, \n",
    "            names=['date', 'value']).tail(1)['value']"
   ]
  },
  {
   "cell_type": "markdown",
   "metadata": {},
   "source": [
    "# Beyond 2\n",
    "### The pd.read_html function, like pd.read_csv, takes a file-like object or a URL. It assumes that it will encounter HTML-formatted text containing at least one table. It turns each table into a data frame and then returns a list of those dataframes. With this in mind, retrieve one year of historical S&P 500 data from Yahoo Finance (https://finance.yahoo.com/quote/%5EGSPC/history?p=% 5EGSPC), looking only at the Date, Close, and Volume columns. Show the date and volume of the days with the highest and lowest Close values. Note that Yahoo seems to look at the User-Agent header in the HTTP request, which cannot be set in read_html. So you’ll need to use requests to retrieve the data, setting User-Agent to a string equal to 'Mozilla 5.0'. Turn the content of the result into a StringIO, and then feed that to read_html and retrieve the data."
   ]
  },
  {
   "cell_type": "code",
   "execution_count": 66,
   "metadata": {},
   "outputs": [],
   "source": [
    "import requests as re\n",
    "from io import StringIO"
   ]
  },
  {
   "cell_type": "code",
   "execution_count": 71,
   "metadata": {},
   "outputs": [],
   "source": [
    "r = re.get('https://finance.yahoo.com/quote/%5EGSPC/history?p=%5EGSPC',\n",
    "           headers={'User-Agent': 'Mozilla/5.0'})"
   ]
  },
  {
   "cell_type": "code",
   "execution_count": 78,
   "metadata": {},
   "outputs": [],
   "source": [
    "df = pd.read_html(StringIO(r.content.decode()))[0].set_index('Date').iloc[:-1]"
   ]
  },
  {
   "cell_type": "code",
   "execution_count": 82,
   "metadata": {},
   "outputs": [],
   "source": [
    "import numpy as np"
   ]
  },
  {
   "cell_type": "code",
   "execution_count": 81,
   "metadata": {},
   "outputs": [
    {
     "data": {
      "text/html": [
       "<div>\n",
       "<style scoped>\n",
       "    .dataframe tbody tr th:only-of-type {\n",
       "        vertical-align: middle;\n",
       "    }\n",
       "\n",
       "    .dataframe tbody tr th {\n",
       "        vertical-align: top;\n",
       "    }\n",
       "\n",
       "    .dataframe thead th {\n",
       "        text-align: right;\n",
       "    }\n",
       "</style>\n",
       "<table border=\"1\" class=\"dataframe\">\n",
       "  <thead>\n",
       "    <tr style=\"text-align: right;\">\n",
       "      <th></th>\n",
       "      <th>Open</th>\n",
       "      <th>High</th>\n",
       "      <th>Low</th>\n",
       "      <th>Close Close price adjusted for splits.</th>\n",
       "      <th>Adj Close Adjusted close price adjusted for splits and dividend and/or capital gain distributions.</th>\n",
       "      <th>Volume</th>\n",
       "    </tr>\n",
       "    <tr>\n",
       "      <th>Date</th>\n",
       "      <th></th>\n",
       "      <th></th>\n",
       "      <th></th>\n",
       "      <th></th>\n",
       "      <th></th>\n",
       "      <th></th>\n",
       "    </tr>\n",
       "  </thead>\n",
       "  <tbody>\n",
       "    <tr>\n",
       "      <th>Aug 30, 2024</th>\n",
       "      <td>5612.74</td>\n",
       "      <td>5651.37</td>\n",
       "      <td>5581.79</td>\n",
       "      <td>5648.40</td>\n",
       "      <td>5648.40</td>\n",
       "      <td>4185850000</td>\n",
       "    </tr>\n",
       "    <tr>\n",
       "      <th>Aug 29, 2024</th>\n",
       "      <td>5607.30</td>\n",
       "      <td>5646.95</td>\n",
       "      <td>5583.71</td>\n",
       "      <td>5591.96</td>\n",
       "      <td>5591.96</td>\n",
       "      <td>3065640000</td>\n",
       "    </tr>\n",
       "    <tr>\n",
       "      <th>Aug 28, 2024</th>\n",
       "      <td>5624.51</td>\n",
       "      <td>5627.03</td>\n",
       "      <td>5560.95</td>\n",
       "      <td>5592.18</td>\n",
       "      <td>5592.18</td>\n",
       "      <td>3053450000</td>\n",
       "    </tr>\n",
       "    <tr>\n",
       "      <th>Aug 27, 2024</th>\n",
       "      <td>5602.89</td>\n",
       "      <td>5631.18</td>\n",
       "      <td>5593.48</td>\n",
       "      <td>5625.80</td>\n",
       "      <td>5625.80</td>\n",
       "      <td>2798990000</td>\n",
       "    </tr>\n",
       "    <tr>\n",
       "      <th>Aug 26, 2024</th>\n",
       "      <td>5639.66</td>\n",
       "      <td>5651.62</td>\n",
       "      <td>5602.34</td>\n",
       "      <td>5616.84</td>\n",
       "      <td>5616.84</td>\n",
       "      <td>2938570000</td>\n",
       "    </tr>\n",
       "    <tr>\n",
       "      <th>...</th>\n",
       "      <td>...</td>\n",
       "      <td>...</td>\n",
       "      <td>...</td>\n",
       "      <td>...</td>\n",
       "      <td>...</td>\n",
       "      <td>...</td>\n",
       "    </tr>\n",
       "    <tr>\n",
       "      <th>Sep 8, 2023</th>\n",
       "      <td>4451.30</td>\n",
       "      <td>4473.53</td>\n",
       "      <td>4448.38</td>\n",
       "      <td>4457.49</td>\n",
       "      <td>4457.49</td>\n",
       "      <td>3259290000</td>\n",
       "    </tr>\n",
       "    <tr>\n",
       "      <th>Sep 7, 2023</th>\n",
       "      <td>4434.55</td>\n",
       "      <td>4457.81</td>\n",
       "      <td>4430.46</td>\n",
       "      <td>4451.14</td>\n",
       "      <td>4451.14</td>\n",
       "      <td>3763760000</td>\n",
       "    </tr>\n",
       "    <tr>\n",
       "      <th>Sep 6, 2023</th>\n",
       "      <td>4490.35</td>\n",
       "      <td>4490.35</td>\n",
       "      <td>4442.38</td>\n",
       "      <td>4465.48</td>\n",
       "      <td>4465.48</td>\n",
       "      <td>3418850000</td>\n",
       "    </tr>\n",
       "    <tr>\n",
       "      <th>Sep 5, 2023</th>\n",
       "      <td>4510.06</td>\n",
       "      <td>4514.29</td>\n",
       "      <td>4496.01</td>\n",
       "      <td>4496.83</td>\n",
       "      <td>4496.83</td>\n",
       "      <td>3526250000</td>\n",
       "    </tr>\n",
       "    <tr>\n",
       "      <th>Sep 1, 2023</th>\n",
       "      <td>4530.60</td>\n",
       "      <td>4541.25</td>\n",
       "      <td>4501.35</td>\n",
       "      <td>4515.77</td>\n",
       "      <td>4515.77</td>\n",
       "      <td>3246260000</td>\n",
       "    </tr>\n",
       "  </tbody>\n",
       "</table>\n",
       "<p>251 rows × 6 columns</p>\n",
       "</div>"
      ],
      "text/plain": [
       "                 Open     High      Low  \\\n",
       "Date                                      \n",
       "Aug 30, 2024  5612.74  5651.37  5581.79   \n",
       "Aug 29, 2024  5607.30  5646.95  5583.71   \n",
       "Aug 28, 2024  5624.51  5627.03  5560.95   \n",
       "Aug 27, 2024  5602.89  5631.18  5593.48   \n",
       "Aug 26, 2024  5639.66  5651.62  5602.34   \n",
       "...               ...      ...      ...   \n",
       "Sep 8, 2023   4451.30  4473.53  4448.38   \n",
       "Sep 7, 2023   4434.55  4457.81  4430.46   \n",
       "Sep 6, 2023   4490.35  4490.35  4442.38   \n",
       "Sep 5, 2023   4510.06  4514.29  4496.01   \n",
       "Sep 1, 2023   4530.60  4541.25  4501.35   \n",
       "\n",
       "              Close Close price adjusted for splits.  \\\n",
       "Date                                                   \n",
       "Aug 30, 2024                                 5648.40   \n",
       "Aug 29, 2024                                 5591.96   \n",
       "Aug 28, 2024                                 5592.18   \n",
       "Aug 27, 2024                                 5625.80   \n",
       "Aug 26, 2024                                 5616.84   \n",
       "...                                              ...   \n",
       "Sep 8, 2023                                  4457.49   \n",
       "Sep 7, 2023                                  4451.14   \n",
       "Sep 6, 2023                                  4465.48   \n",
       "Sep 5, 2023                                  4496.83   \n",
       "Sep 1, 2023                                  4515.77   \n",
       "\n",
       "              Adj Close Adjusted close price adjusted for splits and dividend and/or capital gain distributions.  \\\n",
       "Date                                                                                                               \n",
       "Aug 30, 2024                                            5648.40                                                    \n",
       "Aug 29, 2024                                            5591.96                                                    \n",
       "Aug 28, 2024                                            5592.18                                                    \n",
       "Aug 27, 2024                                            5625.80                                                    \n",
       "Aug 26, 2024                                            5616.84                                                    \n",
       "...                                                         ...                                                    \n",
       "Sep 8, 2023                                             4457.49                                                    \n",
       "Sep 7, 2023                                             4451.14                                                    \n",
       "Sep 6, 2023                                             4465.48                                                    \n",
       "Sep 5, 2023                                             4496.83                                                    \n",
       "Sep 1, 2023                                             4515.77                                                    \n",
       "\n",
       "                  Volume  \n",
       "Date                      \n",
       "Aug 30, 2024  4185850000  \n",
       "Aug 29, 2024  3065640000  \n",
       "Aug 28, 2024  3053450000  \n",
       "Aug 27, 2024  2798990000  \n",
       "Aug 26, 2024  2938570000  \n",
       "...                  ...  \n",
       "Sep 8, 2023   3259290000  \n",
       "Sep 7, 2023   3763760000  \n",
       "Sep 6, 2023   3418850000  \n",
       "Sep 5, 2023   3526250000  \n",
       "Sep 1, 2023   3246260000  \n",
       "\n",
       "[251 rows x 6 columns]"
      ]
     },
     "execution_count": 81,
     "metadata": {},
     "output_type": "execute_result"
    }
   ],
   "source": [
    "df"
   ]
  },
  {
   "cell_type": "code",
   "execution_count": 91,
   "metadata": {},
   "outputs": [],
   "source": [
    "df['Close'] = df['Close Close price adjusted for splits.'].astype(np.float64)\n"
   ]
  },
  {
   "cell_type": "code",
   "execution_count": 89,
   "metadata": {},
   "outputs": [
    {
     "data": {
      "text/html": [
       "<div>\n",
       "<style scoped>\n",
       "    .dataframe tbody tr th:only-of-type {\n",
       "        vertical-align: middle;\n",
       "    }\n",
       "\n",
       "    .dataframe tbody tr th {\n",
       "        vertical-align: top;\n",
       "    }\n",
       "\n",
       "    .dataframe thead th {\n",
       "        text-align: right;\n",
       "    }\n",
       "</style>\n",
       "<table border=\"1\" class=\"dataframe\">\n",
       "  <thead>\n",
       "    <tr style=\"text-align: right;\">\n",
       "      <th></th>\n",
       "      <th>Volume</th>\n",
       "    </tr>\n",
       "    <tr>\n",
       "      <th>Date</th>\n",
       "      <th></th>\n",
       "    </tr>\n",
       "  </thead>\n",
       "  <tbody>\n",
       "    <tr>\n",
       "      <th>Jul 16, 2024</th>\n",
       "      <td>4041760000</td>\n",
       "    </tr>\n",
       "  </tbody>\n",
       "</table>\n",
       "</div>"
      ],
      "text/plain": [
       "                  Volume\n",
       "Date                    \n",
       "Jul 16, 2024  4041760000"
      ]
     },
     "execution_count": 89,
     "metadata": {},
     "output_type": "execute_result"
    }
   ],
   "source": [
    "df.loc[df['Close'] == df['Close'].max(), ['Volume']]"
   ]
  },
  {
   "cell_type": "code",
   "execution_count": 90,
   "metadata": {},
   "outputs": [
    {
     "data": {
      "text/html": [
       "<div>\n",
       "<style scoped>\n",
       "    .dataframe tbody tr th:only-of-type {\n",
       "        vertical-align: middle;\n",
       "    }\n",
       "\n",
       "    .dataframe tbody tr th {\n",
       "        vertical-align: top;\n",
       "    }\n",
       "\n",
       "    .dataframe thead th {\n",
       "        text-align: right;\n",
       "    }\n",
       "</style>\n",
       "<table border=\"1\" class=\"dataframe\">\n",
       "  <thead>\n",
       "    <tr style=\"text-align: right;\">\n",
       "      <th></th>\n",
       "      <th>Volume</th>\n",
       "    </tr>\n",
       "    <tr>\n",
       "      <th>Date</th>\n",
       "      <th></th>\n",
       "    </tr>\n",
       "  </thead>\n",
       "  <tbody>\n",
       "    <tr>\n",
       "      <th>Oct 27, 2023</th>\n",
       "      <td>4019500000</td>\n",
       "    </tr>\n",
       "  </tbody>\n",
       "</table>\n",
       "</div>"
      ],
      "text/plain": [
       "                  Volume\n",
       "Date                    \n",
       "Oct 27, 2023  4019500000"
      ]
     },
     "execution_count": 90,
     "metadata": {},
     "output_type": "execute_result"
    }
   ],
   "source": [
    "df.loc[df['Close'] == df['Close'].min(), ['Volume']]"
   ]
  },
  {
   "cell_type": "code",
   "execution_count": 95,
   "metadata": {},
   "outputs": [
    {
     "data": {
      "text/plain": [
       "dtype('int64')"
      ]
     },
     "execution_count": 95,
     "metadata": {},
     "output_type": "execute_result"
    }
   ],
   "source": [
    "df['Volume'].dtype"
   ]
  },
  {
   "cell_type": "markdown",
   "metadata": {},
   "source": [
    "# Beyond 3\n",
    "### Create a two-row data frame with the highest and lowest closing prices for the S&P 500. Use the to_csv function to write this data to a new CSV file."
   ]
  },
  {
   "cell_type": "code",
   "execution_count": 106,
   "metadata": {},
   "outputs": [
    {
     "data": {
      "text/plain": [
       "Date\n",
       "Jul 16, 2024    5667.2\n",
       "Name: Close, dtype: float64"
      ]
     },
     "execution_count": 106,
     "metadata": {},
     "output_type": "execute_result"
    }
   ],
   "source": [
    "df.loc[df['Close'] == df['Close'].max(), 'Close'] \n",
    "# + df.loc[df['Close'] == df['Close'].min(), ['Volume']]"
   ]
  },
  {
   "cell_type": "code",
   "execution_count": 109,
   "metadata": {},
   "outputs": [
    {
     "name": "stdout",
     "output_type": "stream",
     "text": [
      "Date,Close\n",
      "\"Oct 27, 2023\",4117.37\n",
      "\"Jul 16, 2024\",5667.2\n",
      "\n"
     ]
    }
   ],
   "source": [
    "print(df.loc[df['Close'].agg(['idxmin', 'idxmax']), 'Close'].to_csv())"
   ]
  },
  {
   "cell_type": "code",
   "execution_count": null,
   "metadata": {},
   "outputs": [],
   "source": []
  }
 ],
 "metadata": {
  "kernelspec": {
   "display_name": "pandaswout",
   "language": "python",
   "name": "python3"
  },
  "language_info": {
   "codemirror_mode": {
    "name": "ipython",
    "version": 3
   },
   "file_extension": ".py",
   "mimetype": "text/x-python",
   "name": "python",
   "nbconvert_exporter": "python",
   "pygments_lexer": "ipython3",
   "version": "3.12.4"
  }
 },
 "nbformat": 4,
 "nbformat_minor": 2
}
