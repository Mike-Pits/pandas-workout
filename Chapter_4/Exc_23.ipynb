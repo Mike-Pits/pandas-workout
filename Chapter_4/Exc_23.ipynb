{
 "cells": [
  {
   "cell_type": "code",
   "execution_count": 1,
   "metadata": {},
   "outputs": [],
   "source": [
    "import pandas as pd\n",
    "import numpy as np"
   ]
  },
  {
   "cell_type": "code",
   "execution_count": 2,
   "metadata": {},
   "outputs": [
    {
     "data": {
      "text/html": [
       "<div>\n",
       "<style scoped>\n",
       "    .dataframe tbody tr th:only-of-type {\n",
       "        vertical-align: middle;\n",
       "    }\n",
       "\n",
       "    .dataframe tbody tr th {\n",
       "        vertical-align: top;\n",
       "    }\n",
       "\n",
       "    .dataframe thead th {\n",
       "        text-align: right;\n",
       "    }\n",
       "</style>\n",
       "<table border=\"1\" class=\"dataframe\">\n",
       "  <thead>\n",
       "    <tr style=\"text-align: right;\">\n",
       "      <th></th>\n",
       "      <th></th>\n",
       "      <th></th>\n",
       "      <th></th>\n",
       "      <th>Age</th>\n",
       "      <th>Height</th>\n",
       "      <th>Team</th>\n",
       "      <th>City</th>\n",
       "      <th>Medal</th>\n",
       "    </tr>\n",
       "    <tr>\n",
       "      <th>Year</th>\n",
       "      <th>Season</th>\n",
       "      <th>Sport</th>\n",
       "      <th>Event</th>\n",
       "      <th></th>\n",
       "      <th></th>\n",
       "      <th></th>\n",
       "      <th></th>\n",
       "      <th></th>\n",
       "    </tr>\n",
       "  </thead>\n",
       "  <tbody>\n",
       "    <tr>\n",
       "      <th>1992</th>\n",
       "      <th>Summer</th>\n",
       "      <th>Basketball</th>\n",
       "      <th>Basketball Men's Basketball</th>\n",
       "      <td>24.0</td>\n",
       "      <td>180.0</td>\n",
       "      <td>China</td>\n",
       "      <td>Barcelona</td>\n",
       "      <td>NaN</td>\n",
       "    </tr>\n",
       "    <tr>\n",
       "      <th>2012</th>\n",
       "      <th>Summer</th>\n",
       "      <th>Judo</th>\n",
       "      <th>Judo Men's Extra-Lightweight</th>\n",
       "      <td>23.0</td>\n",
       "      <td>170.0</td>\n",
       "      <td>China</td>\n",
       "      <td>London</td>\n",
       "      <td>NaN</td>\n",
       "    </tr>\n",
       "    <tr>\n",
       "      <th>1920</th>\n",
       "      <th>Summer</th>\n",
       "      <th>Football</th>\n",
       "      <th>Football Men's Football</th>\n",
       "      <td>24.0</td>\n",
       "      <td>NaN</td>\n",
       "      <td>Denmark</td>\n",
       "      <td>Antwerpen</td>\n",
       "      <td>NaN</td>\n",
       "    </tr>\n",
       "    <tr>\n",
       "      <th>1900</th>\n",
       "      <th>Summer</th>\n",
       "      <th>Tug-Of-War</th>\n",
       "      <th>Tug-Of-War Men's Tug-Of-War</th>\n",
       "      <td>34.0</td>\n",
       "      <td>NaN</td>\n",
       "      <td>Denmark/Sweden</td>\n",
       "      <td>Paris</td>\n",
       "      <td>Gold</td>\n",
       "    </tr>\n",
       "    <tr>\n",
       "      <th>1988</th>\n",
       "      <th>Winter</th>\n",
       "      <th>Speed Skating</th>\n",
       "      <th>Speed Skating Women's 500 metres</th>\n",
       "      <td>21.0</td>\n",
       "      <td>185.0</td>\n",
       "      <td>Netherlands</td>\n",
       "      <td>Calgary</td>\n",
       "      <td>NaN</td>\n",
       "    </tr>\n",
       "  </tbody>\n",
       "</table>\n",
       "</div>"
      ],
      "text/plain": [
       "                                                             Age  Height  \\\n",
       "Year Season Sport         Event                                            \n",
       "1992 Summer Basketball    Basketball Men's Basketball       24.0   180.0   \n",
       "2012 Summer Judo          Judo Men's Extra-Lightweight      23.0   170.0   \n",
       "1920 Summer Football      Football Men's Football           24.0     NaN   \n",
       "1900 Summer Tug-Of-War    Tug-Of-War Men's Tug-Of-War       34.0     NaN   \n",
       "1988 Winter Speed Skating Speed Skating Women's 500 metres  21.0   185.0   \n",
       "\n",
       "                                                                      Team  \\\n",
       "Year Season Sport         Event                                              \n",
       "1992 Summer Basketball    Basketball Men's Basketball                China   \n",
       "2012 Summer Judo          Judo Men's Extra-Lightweight               China   \n",
       "1920 Summer Football      Football Men's Football                  Denmark   \n",
       "1900 Summer Tug-Of-War    Tug-Of-War Men's Tug-Of-War       Denmark/Sweden   \n",
       "1988 Winter Speed Skating Speed Skating Women's 500 metres     Netherlands   \n",
       "\n",
       "                                                                 City Medal  \n",
       "Year Season Sport         Event                                              \n",
       "1992 Summer Basketball    Basketball Men's Basketball       Barcelona   NaN  \n",
       "2012 Summer Judo          Judo Men's Extra-Lightweight         London   NaN  \n",
       "1920 Summer Football      Football Men's Football           Antwerpen   NaN  \n",
       "1900 Summer Tug-Of-War    Tug-Of-War Men's Tug-Of-War           Paris  Gold  \n",
       "1988 Winter Speed Skating Speed Skating Women's 500 metres    Calgary   NaN  "
      ]
     },
     "execution_count": 2,
     "metadata": {},
     "output_type": "execute_result"
    }
   ],
   "source": [
    "df = pd.read_csv('/home/mike-pi/Documents/coding/Excs/pandas-workout/pandas-workout/data_sets/olympic_athlete_events.csv',\n",
    "                 usecols=['Age', 'Height', 'Team', 'Year', 'Season', 'City', 'Sport', 'Event', 'Medal'],\n",
    "                 index_col=['Year', 'Season', 'Sport', 'Event'])\n",
    "\n",
    "df.head()"
   ]
  },
  {
   "cell_type": "markdown",
   "metadata": {},
   "source": [
    "### What is the average age of winning athletes in summer games held between\n",
    "### 1936 and 2000?"
   ]
  },
  {
   "cell_type": "code",
   "execution_count": 3,
   "metadata": {},
   "outputs": [
    {
     "data": {
      "text/plain": [
       "25.224765104194006"
      ]
     },
     "execution_count": 3,
     "metadata": {},
     "output_type": "execute_result"
    }
   ],
   "source": [
    "(df\n",
    " .sort_index()\n",
    " .dropna(subset=['Medal'])\n",
    " .loc[(slice(1936, 2000), 'Summer', slice(None), slice(None)), 'Age']\n",
    " .mean()\n",
    ")"
   ]
  },
  {
   "cell_type": "markdown",
   "metadata": {},
   "source": [
    "# ### What team has won the most medals in all archery events?\n",
    "# To answer this question, we need to:\n",
    "# 1. Filter the dataframe for archery events\n",
    "# 2. Group by 'Team' and count the medals\n",
    "# 3. Sort the results to find the team with the most medals\n"
   ]
  },
  {
   "cell_type": "code",
   "execution_count": 4,
   "metadata": {},
   "outputs": [
    {
     "data": {
      "text/plain": [
       "Team\n",
       "South Korea    69\n",
       "Name: count, dtype: int64"
      ]
     },
     "execution_count": 4,
     "metadata": {},
     "output_type": "execute_result"
    }
   ],
   "source": [
    "(df\n",
    " .dropna(subset=['Medal'])\n",
    " .loc[(slice(None), slice(None), 'Archery', slice(None)), 'Team']\n",
    " .value_counts()\n",
    " .head(1)\n",
    ")"
   ]
  },
  {
   "cell_type": "markdown",
   "metadata": {},
   "source": [
    "### Starting in 1980, what is the average height of the “Table Tennis Women’s Team” event?"
   ]
  },
  {
   "cell_type": "code",
   "execution_count": 5,
   "metadata": {},
   "outputs": [
    {
     "data": {
      "text/plain": [
       "165.04827586206898"
      ]
     },
     "execution_count": 5,
     "metadata": {},
     "output_type": "execute_result"
    }
   ],
   "source": [
    "(df[1980:]\n",
    " .loc[(slice(None), slice(None), slice(None),\"Table Tennis Women's Team\"), 'Height']\n",
    " .mean()\n",
    ")"
   ]
  },
  {
   "cell_type": "markdown",
   "metadata": {},
   "source": [
    "### Starting in 1980, what is the average height of both “Table Tennis Women’s Team” and “Table Tennis Men’s Team”?"
   ]
  },
  {
   "cell_type": "code",
   "execution_count": 6,
   "metadata": {},
   "outputs": [
    {
     "data": {
      "text/plain": [
       "171.27083333333334"
      ]
     },
     "execution_count": 6,
     "metadata": {},
     "output_type": "execute_result"
    }
   ],
   "source": [
    "(df[1980:]\n",
    " .loc[(slice(None), slice(None), slice(None), [\"Table Tennis Women's Team\", \"Table Tennis Men's Team\"]), 'Height']\n",
    " .mean()\n",
    ")\n"
   ]
  },
  {
   "cell_type": "markdown",
   "metadata": {},
   "source": [
    "### How tall was the tallest-ever tennis player in Olympic games from 1980 until 2016?"
   ]
  },
  {
   "cell_type": "code",
   "execution_count": 7,
   "metadata": {},
   "outputs": [
    {
     "data": {
      "text/plain": [
       "208.0"
      ]
     },
     "execution_count": 7,
     "metadata": {},
     "output_type": "execute_result"
    }
   ],
   "source": [
    "(df\n",
    " .sort_index()\n",
    " .loc[(slice(1980, 2016), slice(None), \"Tennis\", slice(None)), 'Height']\n",
    " .max()\n",
    ")"
   ]
  },
  {
   "cell_type": "markdown",
   "metadata": {},
   "source": [
    "# Beyond 1\n",
    "### Events occur in either summer or winter Olympic games, but not both. As a result, the \"Season\" level in our multi-index is often unnecessary. Remove the \"Season\" level, and then find (again) the height of the tallest tennis player between 1980 and 2016.\n"
   ]
  },
  {
   "cell_type": "code",
   "execution_count": 12,
   "metadata": {},
   "outputs": [
    {
     "data": {
      "text/plain": [
       "208.0"
      ]
     },
     "execution_count": 12,
     "metadata": {},
     "output_type": "execute_result"
    }
   ],
   "source": [
    "(df\n",
    " .reset_index('Season')\n",
    " .sort_index()\n",
    " .loc[(slice(1980, 2016), \"Tennis\"), 'Height']\n",
    " .max()\n",
    ")"
   ]
  },
  {
   "cell_type": "code",
   "execution_count": 14,
   "metadata": {},
   "outputs": [
    {
     "data": {
      "text/html": [
       "<div>\n",
       "<style scoped>\n",
       "    .dataframe tbody tr th:only-of-type {\n",
       "        vertical-align: middle;\n",
       "    }\n",
       "\n",
       "    .dataframe tbody tr th {\n",
       "        vertical-align: top;\n",
       "    }\n",
       "\n",
       "    .dataframe thead th {\n",
       "        text-align: right;\n",
       "    }\n",
       "</style>\n",
       "<table border=\"1\" class=\"dataframe\">\n",
       "  <thead>\n",
       "    <tr style=\"text-align: right;\">\n",
       "      <th></th>\n",
       "      <th></th>\n",
       "      <th></th>\n",
       "      <th></th>\n",
       "      <th>Age</th>\n",
       "      <th>Height</th>\n",
       "      <th>Team</th>\n",
       "      <th>City</th>\n",
       "      <th>Medal</th>\n",
       "    </tr>\n",
       "    <tr>\n",
       "      <th>Year</th>\n",
       "      <th>Season</th>\n",
       "      <th>Sport</th>\n",
       "      <th>Event</th>\n",
       "      <th></th>\n",
       "      <th></th>\n",
       "      <th></th>\n",
       "      <th></th>\n",
       "      <th></th>\n",
       "    </tr>\n",
       "  </thead>\n",
       "  <tbody>\n",
       "    <tr>\n",
       "      <th>1992</th>\n",
       "      <th>Summer</th>\n",
       "      <th>Basketball</th>\n",
       "      <th>Basketball Men's Basketball</th>\n",
       "      <td>24.0</td>\n",
       "      <td>180.0</td>\n",
       "      <td>China</td>\n",
       "      <td>Barcelona</td>\n",
       "      <td>NaN</td>\n",
       "    </tr>\n",
       "  </tbody>\n",
       "</table>\n",
       "</div>"
      ],
      "text/plain": [
       "                                                     Age  Height   Team  \\\n",
       "Year Season Sport      Event                                              \n",
       "1992 Summer Basketball Basketball Men's Basketball  24.0   180.0  China   \n",
       "\n",
       "                                                         City Medal  \n",
       "Year Season Sport      Event                                         \n",
       "1992 Summer Basketball Basketball Men's Basketball  Barcelona   NaN  "
      ]
     },
     "execution_count": 14,
     "metadata": {},
     "output_type": "execute_result"
    }
   ],
   "source": [
    "df.head(1)"
   ]
  },
  {
   "cell_type": "markdown",
   "metadata": {},
   "source": [
    "# Betyond 2\n",
    "### In which city were the most gold medals awarded from 1980 onward?"
   ]
  },
  {
   "cell_type": "code",
   "execution_count": 16,
   "metadata": {},
   "outputs": [
    {
     "data": {
      "text/plain": [
       "City\n",
       "Beijing           671\n",
       "Rio de Janeiro    665\n",
       "Athina            664\n",
       "Sydney            663\n",
       "London            632\n",
       "Atlanta           608\n",
       "Barcelona         559\n",
       "Seoul             520\n",
       "Los Angeles       497\n",
       "Moskva            457\n",
       "Sochi             202\n",
       "Torino            176\n",
       "Vancouver         174\n",
       "Salt Lake City    162\n",
       "Nagano            145\n",
       "Lillehammer       110\n",
       "Albertville       104\n",
       "Calgary            87\n",
       "Sarajevo           74\n",
       "Lake Placid        72\n",
       "Name: count, dtype: int64"
      ]
     },
     "execution_count": 16,
     "metadata": {},
     "output_type": "execute_result"
    }
   ],
   "source": [
    "(df\n",
    " .sort_index()\n",
    " .loc[1980:]\n",
    " .loc[lambda df_: df_['Medal'] == 'Gold', 'City']\n",
    " .value_counts() \n",
    ")"
   ]
  },
  {
   "cell_type": "markdown",
   "metadata": {},
   "source": [
    "# Beyond 3\n",
    "### How many gold medals were received by the United States since 1980? (Use the index to select the values.)"
   ]
  },
  {
   "cell_type": "code",
   "execution_count": 21,
   "metadata": {},
   "outputs": [
    {
     "data": {
      "text/plain": [
       "1257"
      ]
     },
     "execution_count": 21,
     "metadata": {},
     "output_type": "execute_result"
    }
   ],
   "source": [
    "(df\n",
    " .sort_index()\n",
    " .loc[1980:]\n",
    " .loc[lambda df_: (df_['Medal'] == 'Gold') & (df_['Team'] == 'United States'), 'City']\n",
    " .count()\n",
    " )"
   ]
  },
  {
   "cell_type": "code",
   "execution_count": null,
   "metadata": {},
   "outputs": [],
   "source": []
  }
 ],
 "metadata": {
  "kernelspec": {
   "display_name": "pandaswout",
   "language": "python",
   "name": "python3"
  },
  "language_info": {
   "codemirror_mode": {
    "name": "ipython",
    "version": 3
   },
   "file_extension": ".py",
   "mimetype": "text/x-python",
   "name": "python",
   "nbconvert_exporter": "python",
   "pygments_lexer": "ipython3",
   "version": "3.12.4"
  }
 },
 "nbformat": 4,
 "nbformat_minor": 2
}
