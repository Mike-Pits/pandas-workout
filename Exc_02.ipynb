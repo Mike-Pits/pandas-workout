{
 "cells": [
  {
   "cell_type": "code",
   "execution_count": 2,
   "metadata": {},
   "outputs": [],
   "source": [
    "import numpy as np\n",
    "import pandas as pd\n",
    "from pandas import DataFrame, Series"
   ]
  },
  {
   "cell_type": "code",
   "execution_count": 3,
   "metadata": {},
   "outputs": [
    {
     "data": {
      "text/plain": [
       "Sept    57\n",
       "Oct     52\n",
       "Nov     50\n",
       "Dec     45\n",
       "Jan     46\n",
       "Feb     40\n",
       "Mar     41\n",
       "Apr     40\n",
       "May     43\n",
       "Jun     56\n",
       "dtype: int64"
      ]
     },
     "execution_count": 3,
     "metadata": {},
     "output_type": "execute_result"
    }
   ],
   "source": [
    "g = np.random.default_rng(0)\n",
    "months = 'Sept Oct Nov Dec Jan Feb Mar Apr May Jun'.split()\n",
    "s = Series(g.integers(40, 60, 10), index=months)\n",
    "s"
   ]
  },
  {
   "cell_type": "code",
   "execution_count": 4,
   "metadata": {},
   "outputs": [
    {
     "data": {
      "text/plain": [
       "47.0"
      ]
     },
     "execution_count": 4,
     "metadata": {},
     "output_type": "execute_result"
    }
   ],
   "source": [
    "s_mean = s.mean()\n",
    "s_mean"
   ]
  },
  {
   "cell_type": "code",
   "execution_count": 5,
   "metadata": {},
   "outputs": [
    {
     "data": {
      "text/plain": [
       "[90.0, 85.0, 83.0, 78.0, 79.0, 73.0, 74.0, 73.0, 76.0, 89.0]"
      ]
     },
     "execution_count": 5,
     "metadata": {},
     "output_type": "execute_result"
    }
   ],
   "source": [
    "[x + (80 - s_mean) for x in s]"
   ]
  },
  {
   "cell_type": "code",
   "execution_count": 6,
   "metadata": {},
   "outputs": [
    {
     "data": {
      "text/plain": [
       "Sept    90.0\n",
       "Oct     85.0\n",
       "Nov     83.0\n",
       "Dec     78.0\n",
       "Jan     79.0\n",
       "Feb     73.0\n",
       "Mar     74.0\n",
       "Apr     73.0\n",
       "May     76.0\n",
       "Jun     89.0\n",
       "dtype: float64"
      ]
     },
     "execution_count": 6,
     "metadata": {},
     "output_type": "execute_result"
    }
   ],
   "source": [
    "s + (80 - s_mean)"
   ]
  },
  {
   "cell_type": "markdown",
   "metadata": {},
   "source": [
    "# Beyond the exercise"
   ]
  },
  {
   "cell_type": "markdown",
   "metadata": {},
   "source": [
    "### There’s at least one other way to scale test scores: by looking at both the mean\n",
    "### of the scores and their standard deviation. Anyone who scored within one stan-\n",
    "### dard deviation of the mean got a C (below the mean) or a B (above the mean).\n",
    "### Anyone who scored more than one standard deviation above the mean got an\n",
    "### A, and anyone who got more than one standard deviation below the mean got a\n",
    "### D. During which months did our student get an A, B, C, and D?"
   ]
  },
  {
   "cell_type": "code",
   "execution_count": 7,
   "metadata": {},
   "outputs": [
    {
     "data": {
      "text/plain": [
       "6.082762530298219"
      ]
     },
     "execution_count": 7,
     "metadata": {},
     "output_type": "execute_result"
    }
   ],
   "source": [
    "std_dev = s.std(ddof=0)\n",
    "std_dev"
   ]
  },
  {
   "cell_type": "code",
   "execution_count": 8,
   "metadata": {},
   "outputs": [
    {
     "data": {
      "text/plain": [
       "47.0"
      ]
     },
     "execution_count": 8,
     "metadata": {},
     "output_type": "execute_result"
    }
   ],
   "source": [
    "s_mean"
   ]
  },
  {
   "cell_type": "code",
   "execution_count": 9,
   "metadata": {},
   "outputs": [
    {
     "data": {
      "text/plain": [
       "Sept    57\n",
       "Oct     52\n",
       "Nov     50\n",
       "Dec     45\n",
       "Jan     46\n",
       "Feb     40\n",
       "Mar     41\n",
       "Apr     40\n",
       "May     43\n",
       "Jun     56\n",
       "dtype: int64"
      ]
     },
     "execution_count": 9,
     "metadata": {},
     "output_type": "execute_result"
    }
   ],
   "source": [
    "s"
   ]
  },
  {
   "cell_type": "code",
   "execution_count": 24,
   "metadata": {},
   "outputs": [
    {
     "data": {
      "text/plain": [
       "40.91723746970178"
      ]
     },
     "execution_count": 24,
     "metadata": {},
     "output_type": "execute_result"
    }
   ],
   "source": [
    "s_mean - std_dev"
   ]
  },
  {
   "cell_type": "code",
   "execution_count": 64,
   "metadata": {},
   "outputs": [],
   "source": [
    "c = [ (x >= (s_mean - std_dev) and x < s_mean) for x in s]\n",
    "b = [ (x >= s_mean and x <= (s_mean + std_dev)) for x in s]\n",
    "a = [ x > (s_mean + std_dev) for x in s]\n",
    "d = [ x < (s_mean - std_dev) for x in s]\n",
    "\n",
    "# [i for i in c if c.index(True)] "
   ]
  },
  {
   "cell_type": "code",
   "execution_count": 67,
   "metadata": {},
   "outputs": [],
   "source": [
    "c = Series(c, index=months) \n",
    "b = Series(b, index=months) \n",
    "a = Series(a, index=months) \n",
    "d = Series(d, index=months) \n"
   ]
  },
  {
   "cell_type": "code",
   "execution_count": 63,
   "metadata": {},
   "outputs": [
    {
     "data": {
      "text/plain": [
       "Feb    40\n",
       "Apr    40\n",
       "dtype: int64"
      ]
     },
     "execution_count": 63,
     "metadata": {},
     "output_type": "execute_result"
    }
   ],
   "source": [
    "s[c != False]"
   ]
  },
  {
   "cell_type": "code",
   "execution_count": 72,
   "metadata": {},
   "outputs": [
    {
     "name": "stdout",
     "output_type": "stream",
     "text": [
      "Students got A during months Sept    57\n",
      "Jun     56\n",
      "dtype: int64\n",
      "\n",
      "\n",
      "Students got B during months Oct    52\n",
      "Nov    50\n",
      "dtype: int64\n",
      "\n",
      "Students got C during months Dec    45\n",
      "Jan    46\n",
      "Mar    41\n",
      "May    43\n",
      "dtype: int64\n",
      "\n",
      "Students got D during months Feb    40\n",
      "Apr    40\n",
      "dtype: int64\n"
     ]
    }
   ],
   "source": [
    "print(f'Students got A during months {s[a != False]}')\n",
    "print()\n",
    "print(f'Students got B during months {s[b != False]}')\n",
    "print()\n",
    "print(f'Students got C during months {s[c != False]}')\n",
    "print()\n",
    "print(f'Students got D during months {s[d != False]}')"
   ]
  },
  {
   "cell_type": "markdown",
   "metadata": {},
   "source": [
    "### Were there any test scores more than two standard deviations above or below the mean? If so, in which months?"
   ]
  },
  {
   "cell_type": "code",
   "execution_count": 73,
   "metadata": {},
   "outputs": [],
   "source": [
    "two_std_abv = [ x > (s_mean + std_dev * 2) for x in s]"
   ]
  },
  {
   "cell_type": "code",
   "execution_count": 75,
   "metadata": {},
   "outputs": [
    {
     "data": {
      "text/plain": [
       "[False, False, False, False, False, False, False, False, False, False]"
      ]
     },
     "execution_count": 75,
     "metadata": {},
     "output_type": "execute_result"
    }
   ],
   "source": [
    "two_std_abv"
   ]
  },
  {
   "cell_type": "code",
   "execution_count": 76,
   "metadata": {},
   "outputs": [
    {
     "name": "stdout",
     "output_type": "stream",
     "text": [
      "There are no months with 2 stds above mean\n"
     ]
    }
   ],
   "source": [
    "print('There are no months with 2 stds above mean')"
   ]
  },
  {
   "cell_type": "code",
   "execution_count": 77,
   "metadata": {},
   "outputs": [
    {
     "data": {
      "text/plain": [
       "[False, False, False, False, False, False, False, False, False, False]"
      ]
     },
     "execution_count": 77,
     "metadata": {},
     "output_type": "execute_result"
    }
   ],
   "source": [
    "two_std_below = [ x < (s_mean - std_dev * 2) for x in s]\n",
    "two_std_below"
   ]
  },
  {
   "cell_type": "code",
   "execution_count": 78,
   "metadata": {},
   "outputs": [
    {
     "name": "stdout",
     "output_type": "stream",
     "text": [
      "There are no months with 2 stds below mean\n"
     ]
    }
   ],
   "source": [
    "print('There are no months with 2 stds below mean')"
   ]
  },
  {
   "cell_type": "markdown",
   "metadata": {},
   "source": [
    "### How close are the mean and median to each another? What does it mean if they are close? What would it mean if they were far apart?"
   ]
  },
  {
   "cell_type": "code",
   "execution_count": 80,
   "metadata": {},
   "outputs": [
    {
     "data": {
      "text/plain": [
       "45.5"
      ]
     },
     "execution_count": 80,
     "metadata": {},
     "output_type": "execute_result"
    }
   ],
   "source": [
    "s.median()"
   ]
  },
  {
   "cell_type": "code",
   "execution_count": 81,
   "metadata": {},
   "outputs": [
    {
     "data": {
      "text/plain": [
       "47.0"
      ]
     },
     "execution_count": 81,
     "metadata": {},
     "output_type": "execute_result"
    }
   ],
   "source": [
    "s_mean"
   ]
  },
  {
   "cell_type": "markdown",
   "metadata": {},
   "source": [
    "### The mean and median are fairly close which means that the series values are well balanced with no or little outliers"
   ]
  },
  {
   "cell_type": "code",
   "execution_count": null,
   "metadata": {},
   "outputs": [],
   "source": []
  }
 ],
 "metadata": {
  "kernelspec": {
   "display_name": "pandaswout",
   "language": "python",
   "name": "python3"
  },
  "language_info": {
   "codemirror_mode": {
    "name": "ipython",
    "version": 3
   },
   "file_extension": ".py",
   "mimetype": "text/x-python",
   "name": "python",
   "nbconvert_exporter": "python",
   "pygments_lexer": "ipython3",
   "version": "3.12.4"
  }
 },
 "nbformat": 4,
 "nbformat_minor": 2
}
