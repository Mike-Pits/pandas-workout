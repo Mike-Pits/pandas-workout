{
 "cells": [
  {
   "cell_type": "code",
   "execution_count": 1,
   "metadata": {},
   "outputs": [],
   "source": [
    "import pandas as pd\n",
    "import numpy as np\n",
    "from pandas import DataFrame, Series"
   ]
  },
  {
   "cell_type": "code",
   "execution_count": 10,
   "metadata": {},
   "outputs": [
    {
     "data": {
      "text/plain": [
       "Sun    21\n",
       "Mon    19\n",
       "Tue    23\n",
       "Wed    21\n",
       "Thu    17\n",
       "Fri    22\n",
       "Sat    27\n",
       "Sun    25\n",
       "Mon    16\n",
       "Tue    14\n",
       "Wed    17\n",
       "Thu    20\n",
       "Fri     8\n",
       "Sat    19\n",
       "Sun    14\n",
       "Mon    16\n",
       "Tue    17\n",
       "Wed    18\n",
       "Thu    22\n",
       "Fri    25\n",
       "Sat    19\n",
       "Sun    27\n",
       "Mon    17\n",
       "Tue    22\n",
       "Wed    25\n",
       "Thu    20\n",
       "Fri    16\n",
       "Sat    15\n",
       "dtype: int8"
      ]
     },
     "execution_count": 10,
     "metadata": {},
     "output_type": "execute_result"
    }
   ],
   "source": [
    "g = np.random.default_rng(0)\n",
    "index=['Sun', 'Mon', 'Tue', 'Wed', 'Thu', 'Fri', 'Sat']\n",
    "s = Series(g.normal(20, 5, 28), index=index*4).round().astype('int8')\n",
    "s"
   ]
  },
  {
   "cell_type": "code",
   "execution_count": 14,
   "metadata": {},
   "outputs": [
    {
     "data": {
      "text/plain": [
       "Mon    19\n",
       "Mon    16\n",
       "Mon    16\n",
       "Mon    17\n",
       "dtype: int8"
      ]
     },
     "execution_count": 14,
     "metadata": {},
     "output_type": "execute_result"
    }
   ],
   "source": [
    "s.loc['Mon']"
   ]
  },
  {
   "cell_type": "code",
   "execution_count": 15,
   "metadata": {},
   "outputs": [
    {
     "data": {
      "text/plain": [
       "17.0"
      ]
     },
     "execution_count": 15,
     "metadata": {},
     "output_type": "execute_result"
    }
   ],
   "source": [
    "s.loc['Mon'].mean()"
   ]
  },
  {
   "cell_type": "markdown",
   "metadata": {},
   "source": [
    "### What was the average weekend temperature (i.e., Saturdays and Sundays)?"
   ]
  },
  {
   "cell_type": "code",
   "execution_count": 16,
   "metadata": {},
   "outputs": [
    {
     "data": {
      "text/plain": [
       "20.875"
      ]
     },
     "execution_count": 16,
     "metadata": {},
     "output_type": "execute_result"
    }
   ],
   "source": [
    "s.loc[['Sat', 'Sun']].mean()"
   ]
  },
  {
   "cell_type": "markdown",
   "metadata": {},
   "source": [
    "### How many times is the change in temperature from the previous day greater than 2 degrees?"
   ]
  },
  {
   "cell_type": "code",
   "execution_count": 22,
   "metadata": {},
   "outputs": [
    {
     "data": {
      "text/plain": [
       "11"
      ]
     },
     "execution_count": 22,
     "metadata": {},
     "output_type": "execute_result"
    }
   ],
   "source": [
    "s[s.diff() > 2].count()"
   ]
  },
  {
   "cell_type": "markdown",
   "metadata": {},
   "source": [
    "### What are the two most common temperatures in our data set, and how often does each appear?"
   ]
  },
  {
   "cell_type": "code",
   "execution_count": 23,
   "metadata": {},
   "outputs": [
    {
     "data": {
      "text/plain": [
       "count    28.000000\n",
       "mean     19.357143\n",
       "std       4.373441\n",
       "min       8.000000\n",
       "25%      16.750000\n",
       "50%      19.000000\n",
       "75%      22.000000\n",
       "max      27.000000\n",
       "dtype: float64"
      ]
     },
     "execution_count": 23,
     "metadata": {},
     "output_type": "execute_result"
    }
   ],
   "source": [
    "s.describe()"
   ]
  },
  {
   "cell_type": "code",
   "execution_count": 24,
   "metadata": {},
   "outputs": [
    {
     "data": {
      "text/plain": [
       "17    4\n",
       "19    3\n",
       "22    3\n",
       "25    3\n",
       "16    3\n",
       "21    2\n",
       "27    2\n",
       "14    2\n",
       "20    2\n",
       "23    1\n",
       "8     1\n",
       "18    1\n",
       "15    1\n",
       "Name: count, dtype: int64"
      ]
     },
     "execution_count": 24,
     "metadata": {},
     "output_type": "execute_result"
    }
   ],
   "source": [
    "s.value_counts()"
   ]
  },
  {
   "cell_type": "code",
   "execution_count": null,
   "metadata": {},
   "outputs": [],
   "source": []
  }
 ],
 "metadata": {
  "kernelspec": {
   "display_name": "pandaswout",
   "language": "python",
   "name": "python3"
  },
  "language_info": {
   "codemirror_mode": {
    "name": "ipython",
    "version": 3
   },
   "file_extension": ".py",
   "mimetype": "text/x-python",
   "name": "python",
   "nbconvert_exporter": "python",
   "pygments_lexer": "ipython3",
   "version": "3.12.4"
  }
 },
 "nbformat": 4,
 "nbformat_minor": 2
}
